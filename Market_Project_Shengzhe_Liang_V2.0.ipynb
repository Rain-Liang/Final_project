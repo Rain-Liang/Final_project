{
 "cells": [
  {
   "cell_type": "code",
   "execution_count": 1,
   "id": "59784f67",
   "metadata": {},
   "outputs": [],
   "source": [
    "#basic\n",
    "import numpy as np\n",
    "import pandas as pd\n",
    "from sklearn.preprocessing import StandardScaler\n",
    "\n",
    "#cluster\n",
    "from sklearn.cluster import KMeans\n",
    "from sklearn.preprocessing import OneHotEncoder # one hot coding\n",
    "from sklearn import preprocessing\n",
    "from sklearn.model_selection import train_test_split\n",
    "from sklearn.preprocessing import StandardScaler # Standarization\n",
    "# Import module for k-protoype cluster\n",
    "from kmodes.kmodes import KModes\n",
    "from collections import Counter, defaultdict # coun the number of samples in each cluster\n",
    "\n",
    "import random\n",
    "\n",
    "from sklearn.model_selection import train_test_split\n",
    "import matplotlib.pyplot as plt\n",
    "import seaborn as sns\n",
    "from collections import defaultdict"
   ]
  },
  {
   "cell_type": "markdown",
   "id": "6fa2f13a",
   "metadata": {},
   "source": [
    "## Customer Segmentation"
   ]
  },
  {
   "cell_type": "code",
   "execution_count": 2,
   "id": "c596bd83",
   "metadata": {},
   "outputs": [],
   "source": [
    "#df_subs = pd.read_csv(\"subscribers.csv\")\n",
    "df_subs=pd.read_pickle('subscribers')"
   ]
  },
  {
   "cell_type": "code",
   "execution_count": 3,
   "id": "a6528566",
   "metadata": {},
   "outputs": [
    {
     "name": "stdout",
     "output_type": "stream",
     "text": [
      "<class 'pandas.core.frame.DataFrame'>\n",
      "Int64Index: 227628 entries, 162502 to 598241\n",
      "Data columns (total 29 columns):\n",
      " #   Column                        Non-Null Count   Dtype         \n",
      "---  ------                        --------------   -----         \n",
      " 0   subid                         227628 non-null  int64         \n",
      " 1   package_type                  192054 non-null  object        \n",
      " 2   num_weekly_services_utilized  117178 non-null  float64       \n",
      " 3   preferred_genre               191302 non-null  object        \n",
      " 4   intended_use                  224079 non-null  object        \n",
      " 5   weekly_consumption_hour       189698 non-null  float64       \n",
      " 6   num_ideal_streaming_services  115458 non-null  float64       \n",
      " 7   retarget_TF                   227628 non-null  bool          \n",
      " 8   age                           192459 non-null  float64       \n",
      " 9   male_TF                       227359 non-null  object        \n",
      " 10  country                       227628 non-null  object        \n",
      " 11  attribution_technical         227628 non-null  object        \n",
      " 12  attribution_survey            224984 non-null  object        \n",
      " 13  op_sys                        214253 non-null  object        \n",
      " 14  months_per_bill_period        227628 non-null  int64         \n",
      " 15  plan_type                     227628 non-null  object        \n",
      " 16  monthly_price                 227628 non-null  float64       \n",
      " 17  discount_price                227628 non-null  float64       \n",
      " 18  account_creation_date         227628 non-null  datetime64[ns]\n",
      " 19  creation_until_cancel_days    151768 non-null  float64       \n",
      " 20  cancel_before_trial_end       227628 non-null  bool          \n",
      " 21  trial_end_date                227628 non-null  datetime64[ns]\n",
      " 22  initial_credit_card_declined  227628 non-null  bool          \n",
      " 23  revenue_net                   192724 non-null  float64       \n",
      " 24  join_fee                      192724 non-null  float64       \n",
      " 25  language                      227628 non-null  object        \n",
      " 26  paid_TF                       227628 non-null  bool          \n",
      " 27  refund_after_trial_TF         227628 non-null  bool          \n",
      " 28  payment_type                  92050 non-null   object        \n",
      "dtypes: bool(5), datetime64[ns](2), float64(9), int64(2), object(11)\n",
      "memory usage: 44.5+ MB\n"
     ]
    }
   ],
   "source": [
    "df_subs.info()"
   ]
  },
  {
   "cell_type": "code",
   "execution_count": 4,
   "id": "077eb4a2",
   "metadata": {},
   "outputs": [],
   "source": [
    "df_q2 = df_subs.copy(deep=True)"
   ]
  },
  {
   "cell_type": "code",
   "execution_count": 5,
   "id": "111b71d4",
   "metadata": {},
   "outputs": [],
   "source": [
    "features = ['op_sys','package_type','preferred_genre','age','male_TF']"
   ]
  },
  {
   "cell_type": "code",
   "execution_count": 6,
   "id": "dfaed0b0",
   "metadata": {},
   "outputs": [],
   "source": [
    "df_q2 = df_q2[-(df_q2.age > 100 )]"
   ]
  },
  {
   "cell_type": "code",
   "execution_count": 7,
   "id": "8ff21623",
   "metadata": {},
   "outputs": [],
   "source": [
    "df_q2 = df_q2.dropna(subset = features )"
   ]
  },
  {
   "cell_type": "code",
   "execution_count": 8,
   "id": "6d70192a",
   "metadata": {},
   "outputs": [
    {
     "data": {
      "text/html": [
       "<div>\n",
       "<style scoped>\n",
       "    .dataframe tbody tr th:only-of-type {\n",
       "        vertical-align: middle;\n",
       "    }\n",
       "\n",
       "    .dataframe tbody tr th {\n",
       "        vertical-align: top;\n",
       "    }\n",
       "\n",
       "    .dataframe thead th {\n",
       "        text-align: right;\n",
       "    }\n",
       "</style>\n",
       "<table border=\"1\" class=\"dataframe\">\n",
       "  <thead>\n",
       "    <tr style=\"text-align: right;\">\n",
       "      <th></th>\n",
       "      <th>subid</th>\n",
       "      <th>package_type</th>\n",
       "      <th>num_weekly_services_utilized</th>\n",
       "      <th>preferred_genre</th>\n",
       "      <th>intended_use</th>\n",
       "      <th>weekly_consumption_hour</th>\n",
       "      <th>num_ideal_streaming_services</th>\n",
       "      <th>retarget_TF</th>\n",
       "      <th>age</th>\n",
       "      <th>male_TF</th>\n",
       "      <th>...</th>\n",
       "      <th>creation_until_cancel_days</th>\n",
       "      <th>cancel_before_trial_end</th>\n",
       "      <th>trial_end_date</th>\n",
       "      <th>initial_credit_card_declined</th>\n",
       "      <th>revenue_net</th>\n",
       "      <th>join_fee</th>\n",
       "      <th>language</th>\n",
       "      <th>paid_TF</th>\n",
       "      <th>refund_after_trial_TF</th>\n",
       "      <th>payment_type</th>\n",
       "    </tr>\n",
       "  </thead>\n",
       "  <tbody>\n",
       "    <tr>\n",
       "      <th>496617</th>\n",
       "      <td>26844789</td>\n",
       "      <td>enhanced</td>\n",
       "      <td>3.362885</td>\n",
       "      <td>regional</td>\n",
       "      <td>replace OTT</td>\n",
       "      <td>36.001186</td>\n",
       "      <td>1.951776</td>\n",
       "      <td>False</td>\n",
       "      <td>25.0</td>\n",
       "      <td>True</td>\n",
       "      <td>...</td>\n",
       "      <td>1.0</td>\n",
       "      <td>False</td>\n",
       "      <td>2019-12-22</td>\n",
       "      <td>False</td>\n",
       "      <td>0.0000</td>\n",
       "      <td>0.1101</td>\n",
       "      <td>ar</td>\n",
       "      <td>False</td>\n",
       "      <td>False</td>\n",
       "      <td>NaN</td>\n",
       "    </tr>\n",
       "    <tr>\n",
       "      <th>356799</th>\n",
       "      <td>29417030</td>\n",
       "      <td>base</td>\n",
       "      <td>NaN</td>\n",
       "      <td>drama</td>\n",
       "      <td>replace OTT</td>\n",
       "      <td>20.051667</td>\n",
       "      <td>NaN</td>\n",
       "      <td>False</td>\n",
       "      <td>30.0</td>\n",
       "      <td>False</td>\n",
       "      <td>...</td>\n",
       "      <td>0.0</td>\n",
       "      <td>False</td>\n",
       "      <td>2020-02-11</td>\n",
       "      <td>False</td>\n",
       "      <td>0.0000</td>\n",
       "      <td>0.0367</td>\n",
       "      <td>ar</td>\n",
       "      <td>False</td>\n",
       "      <td>False</td>\n",
       "      <td>NaN</td>\n",
       "    </tr>\n",
       "    <tr>\n",
       "      <th>681701</th>\n",
       "      <td>26723159</td>\n",
       "      <td>base</td>\n",
       "      <td>3.731089</td>\n",
       "      <td>comedy</td>\n",
       "      <td>replace OTT</td>\n",
       "      <td>22.951579</td>\n",
       "      <td>2.506384</td>\n",
       "      <td>False</td>\n",
       "      <td>28.0</td>\n",
       "      <td>False</td>\n",
       "      <td>...</td>\n",
       "      <td>9.0</td>\n",
       "      <td>False</td>\n",
       "      <td>2019-10-20</td>\n",
       "      <td>False</td>\n",
       "      <td>0.0000</td>\n",
       "      <td>0.0367</td>\n",
       "      <td>ar</td>\n",
       "      <td>False</td>\n",
       "      <td>False</td>\n",
       "      <td>NaN</td>\n",
       "    </tr>\n",
       "    <tr>\n",
       "      <th>192823</th>\n",
       "      <td>29726122</td>\n",
       "      <td>base</td>\n",
       "      <td>2.049135</td>\n",
       "      <td>comedy</td>\n",
       "      <td>access to exclusive content</td>\n",
       "      <td>20.051667</td>\n",
       "      <td>1.860289</td>\n",
       "      <td>False</td>\n",
       "      <td>61.0</td>\n",
       "      <td>False</td>\n",
       "      <td>...</td>\n",
       "      <td>NaN</td>\n",
       "      <td>True</td>\n",
       "      <td>2020-03-05</td>\n",
       "      <td>False</td>\n",
       "      <td>4.5875</td>\n",
       "      <td>0.3303</td>\n",
       "      <td>ar</td>\n",
       "      <td>True</td>\n",
       "      <td>False</td>\n",
       "      <td>Standard Charter</td>\n",
       "    </tr>\n",
       "    <tr>\n",
       "      <th>315863</th>\n",
       "      <td>20299962</td>\n",
       "      <td>base</td>\n",
       "      <td>3.002048</td>\n",
       "      <td>drama</td>\n",
       "      <td>access to exclusive content</td>\n",
       "      <td>34.551230</td>\n",
       "      <td>1.870503</td>\n",
       "      <td>False</td>\n",
       "      <td>23.0</td>\n",
       "      <td>False</td>\n",
       "      <td>...</td>\n",
       "      <td>NaN</td>\n",
       "      <td>True</td>\n",
       "      <td>2020-03-20</td>\n",
       "      <td>False</td>\n",
       "      <td>3.4498</td>\n",
       "      <td>0.0000</td>\n",
       "      <td>ar</td>\n",
       "      <td>True</td>\n",
       "      <td>False</td>\n",
       "      <td>RAKBANK</td>\n",
       "    </tr>\n",
       "    <tr>\n",
       "      <th>...</th>\n",
       "      <td>...</td>\n",
       "      <td>...</td>\n",
       "      <td>...</td>\n",
       "      <td>...</td>\n",
       "      <td>...</td>\n",
       "      <td>...</td>\n",
       "      <td>...</td>\n",
       "      <td>...</td>\n",
       "      <td>...</td>\n",
       "      <td>...</td>\n",
       "      <td>...</td>\n",
       "      <td>...</td>\n",
       "      <td>...</td>\n",
       "      <td>...</td>\n",
       "      <td>...</td>\n",
       "      <td>...</td>\n",
       "      <td>...</td>\n",
       "      <td>...</td>\n",
       "      <td>...</td>\n",
       "      <td>...</td>\n",
       "      <td>...</td>\n",
       "    </tr>\n",
       "    <tr>\n",
       "      <th>603751</th>\n",
       "      <td>25835684</td>\n",
       "      <td>base</td>\n",
       "      <td>2.169904</td>\n",
       "      <td>drama</td>\n",
       "      <td>access to exclusive content</td>\n",
       "      <td>24.401536</td>\n",
       "      <td>1.881068</td>\n",
       "      <td>False</td>\n",
       "      <td>43.0</td>\n",
       "      <td>False</td>\n",
       "      <td>...</td>\n",
       "      <td>11.0</td>\n",
       "      <td>False</td>\n",
       "      <td>2020-01-16</td>\n",
       "      <td>False</td>\n",
       "      <td>0.0000</td>\n",
       "      <td>0.0000</td>\n",
       "      <td>ar</td>\n",
       "      <td>False</td>\n",
       "      <td>False</td>\n",
       "      <td>NaN</td>\n",
       "    </tr>\n",
       "    <tr>\n",
       "      <th>509326</th>\n",
       "      <td>21434712</td>\n",
       "      <td>enhanced</td>\n",
       "      <td>2.594078</td>\n",
       "      <td>comedy</td>\n",
       "      <td>supplement OTT</td>\n",
       "      <td>28.751405</td>\n",
       "      <td>1.905485</td>\n",
       "      <td>False</td>\n",
       "      <td>38.0</td>\n",
       "      <td>False</td>\n",
       "      <td>...</td>\n",
       "      <td>8.0</td>\n",
       "      <td>False</td>\n",
       "      <td>2019-12-02</td>\n",
       "      <td>False</td>\n",
       "      <td>0.0000</td>\n",
       "      <td>0.3303</td>\n",
       "      <td>ar</td>\n",
       "      <td>False</td>\n",
       "      <td>False</td>\n",
       "      <td>NaN</td>\n",
       "    </tr>\n",
       "    <tr>\n",
       "      <th>229587</th>\n",
       "      <td>25843074</td>\n",
       "      <td>enhanced</td>\n",
       "      <td>2.361370</td>\n",
       "      <td>comedy</td>\n",
       "      <td>replace OTT</td>\n",
       "      <td>27.301448</td>\n",
       "      <td>1.835189</td>\n",
       "      <td>True</td>\n",
       "      <td>49.0</td>\n",
       "      <td>False</td>\n",
       "      <td>...</td>\n",
       "      <td>NaN</td>\n",
       "      <td>True</td>\n",
       "      <td>2019-12-21</td>\n",
       "      <td>False</td>\n",
       "      <td>4.5875</td>\n",
       "      <td>0.3303</td>\n",
       "      <td>ar</td>\n",
       "      <td>True</td>\n",
       "      <td>False</td>\n",
       "      <td>Paypal</td>\n",
       "    </tr>\n",
       "    <tr>\n",
       "      <th>281340</th>\n",
       "      <td>24799085</td>\n",
       "      <td>base</td>\n",
       "      <td>NaN</td>\n",
       "      <td>comedy</td>\n",
       "      <td>access to exclusive content</td>\n",
       "      <td>31.651317</td>\n",
       "      <td>NaN</td>\n",
       "      <td>False</td>\n",
       "      <td>45.0</td>\n",
       "      <td>False</td>\n",
       "      <td>...</td>\n",
       "      <td>31.0</td>\n",
       "      <td>True</td>\n",
       "      <td>2020-01-05</td>\n",
       "      <td>True</td>\n",
       "      <td>0.0000</td>\n",
       "      <td>0.0367</td>\n",
       "      <td>ar</td>\n",
       "      <td>False</td>\n",
       "      <td>False</td>\n",
       "      <td>NaN</td>\n",
       "    </tr>\n",
       "    <tr>\n",
       "      <th>598241</th>\n",
       "      <td>20166335</td>\n",
       "      <td>base</td>\n",
       "      <td>NaN</td>\n",
       "      <td>comedy</td>\n",
       "      <td>replace OTT</td>\n",
       "      <td>25.851492</td>\n",
       "      <td>NaN</td>\n",
       "      <td>False</td>\n",
       "      <td>55.0</td>\n",
       "      <td>False</td>\n",
       "      <td>...</td>\n",
       "      <td>4.0</td>\n",
       "      <td>False</td>\n",
       "      <td>2019-12-11</td>\n",
       "      <td>False</td>\n",
       "      <td>0.0000</td>\n",
       "      <td>0.0367</td>\n",
       "      <td>ar</td>\n",
       "      <td>False</td>\n",
       "      <td>False</td>\n",
       "      <td>NaN</td>\n",
       "    </tr>\n",
       "  </tbody>\n",
       "</table>\n",
       "<p>144492 rows × 29 columns</p>\n",
       "</div>"
      ],
      "text/plain": [
       "           subid package_type  num_weekly_services_utilized preferred_genre  \\\n",
       "496617  26844789     enhanced                      3.362885        regional   \n",
       "356799  29417030         base                           NaN           drama   \n",
       "681701  26723159         base                      3.731089          comedy   \n",
       "192823  29726122         base                      2.049135          comedy   \n",
       "315863  20299962         base                      3.002048           drama   \n",
       "...          ...          ...                           ...             ...   \n",
       "603751  25835684         base                      2.169904           drama   \n",
       "509326  21434712     enhanced                      2.594078          comedy   \n",
       "229587  25843074     enhanced                      2.361370          comedy   \n",
       "281340  24799085         base                           NaN          comedy   \n",
       "598241  20166335         base                           NaN          comedy   \n",
       "\n",
       "                       intended_use  weekly_consumption_hour  \\\n",
       "496617                  replace OTT                36.001186   \n",
       "356799                  replace OTT                20.051667   \n",
       "681701                  replace OTT                22.951579   \n",
       "192823  access to exclusive content                20.051667   \n",
       "315863  access to exclusive content                34.551230   \n",
       "...                             ...                      ...   \n",
       "603751  access to exclusive content                24.401536   \n",
       "509326               supplement OTT                28.751405   \n",
       "229587                  replace OTT                27.301448   \n",
       "281340  access to exclusive content                31.651317   \n",
       "598241                  replace OTT                25.851492   \n",
       "\n",
       "        num_ideal_streaming_services  retarget_TF   age male_TF  ...  \\\n",
       "496617                      1.951776        False  25.0    True  ...   \n",
       "356799                           NaN        False  30.0   False  ...   \n",
       "681701                      2.506384        False  28.0   False  ...   \n",
       "192823                      1.860289        False  61.0   False  ...   \n",
       "315863                      1.870503        False  23.0   False  ...   \n",
       "...                              ...          ...   ...     ...  ...   \n",
       "603751                      1.881068        False  43.0   False  ...   \n",
       "509326                      1.905485        False  38.0   False  ...   \n",
       "229587                      1.835189         True  49.0   False  ...   \n",
       "281340                           NaN        False  45.0   False  ...   \n",
       "598241                           NaN        False  55.0   False  ...   \n",
       "\n",
       "       creation_until_cancel_days cancel_before_trial_end trial_end_date  \\\n",
       "496617                        1.0                   False     2019-12-22   \n",
       "356799                        0.0                   False     2020-02-11   \n",
       "681701                        9.0                   False     2019-10-20   \n",
       "192823                        NaN                    True     2020-03-05   \n",
       "315863                        NaN                    True     2020-03-20   \n",
       "...                           ...                     ...            ...   \n",
       "603751                       11.0                   False     2020-01-16   \n",
       "509326                        8.0                   False     2019-12-02   \n",
       "229587                        NaN                    True     2019-12-21   \n",
       "281340                       31.0                    True     2020-01-05   \n",
       "598241                        4.0                   False     2019-12-11   \n",
       "\n",
       "       initial_credit_card_declined  revenue_net join_fee  language  paid_TF  \\\n",
       "496617                        False       0.0000   0.1101        ar    False   \n",
       "356799                        False       0.0000   0.0367        ar    False   \n",
       "681701                        False       0.0000   0.0367        ar    False   \n",
       "192823                        False       4.5875   0.3303        ar     True   \n",
       "315863                        False       3.4498   0.0000        ar     True   \n",
       "...                             ...          ...      ...       ...      ...   \n",
       "603751                        False       0.0000   0.0000        ar    False   \n",
       "509326                        False       0.0000   0.3303        ar    False   \n",
       "229587                        False       4.5875   0.3303        ar     True   \n",
       "281340                         True       0.0000   0.0367        ar    False   \n",
       "598241                        False       0.0000   0.0367        ar    False   \n",
       "\n",
       "       refund_after_trial_TF      payment_type  \n",
       "496617                 False               NaN  \n",
       "356799                 False               NaN  \n",
       "681701                 False               NaN  \n",
       "192823                 False  Standard Charter  \n",
       "315863                 False           RAKBANK  \n",
       "...                      ...               ...  \n",
       "603751                 False               NaN  \n",
       "509326                 False               NaN  \n",
       "229587                 False            Paypal  \n",
       "281340                 False               NaN  \n",
       "598241                 False               NaN  \n",
       "\n",
       "[144492 rows x 29 columns]"
      ]
     },
     "execution_count": 8,
     "metadata": {},
     "output_type": "execute_result"
    }
   ],
   "source": [
    "df_q2"
   ]
  },
  {
   "cell_type": "code",
   "execution_count": 9,
   "id": "d08577c5",
   "metadata": {},
   "outputs": [],
   "source": [
    "df_features = df_q2[features]"
   ]
  },
  {
   "cell_type": "code",
   "execution_count": 10,
   "id": "f4c7f203",
   "metadata": {},
   "outputs": [
    {
     "data": {
      "text/html": [
       "<div>\n",
       "<style scoped>\n",
       "    .dataframe tbody tr th:only-of-type {\n",
       "        vertical-align: middle;\n",
       "    }\n",
       "\n",
       "    .dataframe tbody tr th {\n",
       "        vertical-align: top;\n",
       "    }\n",
       "\n",
       "    .dataframe thead th {\n",
       "        text-align: right;\n",
       "    }\n",
       "</style>\n",
       "<table border=\"1\" class=\"dataframe\">\n",
       "  <thead>\n",
       "    <tr style=\"text-align: right;\">\n",
       "      <th></th>\n",
       "      <th>op_sys</th>\n",
       "      <th>package_type</th>\n",
       "      <th>preferred_genre</th>\n",
       "      <th>age</th>\n",
       "      <th>male_TF</th>\n",
       "    </tr>\n",
       "  </thead>\n",
       "  <tbody>\n",
       "    <tr>\n",
       "      <th>496617</th>\n",
       "      <td>iOS</td>\n",
       "      <td>enhanced</td>\n",
       "      <td>regional</td>\n",
       "      <td>25.0</td>\n",
       "      <td>True</td>\n",
       "    </tr>\n",
       "    <tr>\n",
       "      <th>356799</th>\n",
       "      <td>Android</td>\n",
       "      <td>base</td>\n",
       "      <td>drama</td>\n",
       "      <td>30.0</td>\n",
       "      <td>False</td>\n",
       "    </tr>\n",
       "    <tr>\n",
       "      <th>681701</th>\n",
       "      <td>iOS</td>\n",
       "      <td>base</td>\n",
       "      <td>comedy</td>\n",
       "      <td>28.0</td>\n",
       "      <td>False</td>\n",
       "    </tr>\n",
       "    <tr>\n",
       "      <th>192823</th>\n",
       "      <td>Android</td>\n",
       "      <td>base</td>\n",
       "      <td>comedy</td>\n",
       "      <td>61.0</td>\n",
       "      <td>False</td>\n",
       "    </tr>\n",
       "    <tr>\n",
       "      <th>315863</th>\n",
       "      <td>iOS</td>\n",
       "      <td>base</td>\n",
       "      <td>drama</td>\n",
       "      <td>23.0</td>\n",
       "      <td>False</td>\n",
       "    </tr>\n",
       "  </tbody>\n",
       "</table>\n",
       "</div>"
      ],
      "text/plain": [
       "         op_sys package_type preferred_genre   age male_TF\n",
       "496617      iOS     enhanced        regional  25.0    True\n",
       "356799  Android         base           drama  30.0   False\n",
       "681701      iOS         base          comedy  28.0   False\n",
       "192823  Android         base          comedy  61.0   False\n",
       "315863      iOS         base           drama  23.0   False"
      ]
     },
     "execution_count": 10,
     "metadata": {},
     "output_type": "execute_result"
    }
   ],
   "source": [
    "df_features.head()"
   ]
  },
  {
   "cell_type": "code",
   "execution_count": 11,
   "id": "253d2ba7",
   "metadata": {},
   "outputs": [
    {
     "name": "stdout",
     "output_type": "stream",
     "text": [
      "<class 'pandas.core.frame.DataFrame'>\n",
      "Int64Index: 144492 entries, 496617 to 598241\n",
      "Data columns (total 5 columns):\n",
      " #   Column           Non-Null Count   Dtype  \n",
      "---  ------           --------------   -----  \n",
      " 0   op_sys           144492 non-null  object \n",
      " 1   package_type     144492 non-null  object \n",
      " 2   preferred_genre  144492 non-null  object \n",
      " 3   age              144492 non-null  float64\n",
      " 4   male_TF          144492 non-null  object \n",
      "dtypes: float64(1), object(4)\n",
      "memory usage: 6.6+ MB\n"
     ]
    }
   ],
   "source": [
    "df_features.info()"
   ]
  },
  {
   "cell_type": "code",
   "execution_count": 12,
   "id": "ac276b0e",
   "metadata": {},
   "outputs": [
    {
     "name": "stderr",
     "output_type": "stream",
     "text": [
      "<ipython-input-12-1b310f524488>:1: SettingWithCopyWarning: \n",
      "A value is trying to be set on a copy of a slice from a DataFrame.\n",
      "Try using .loc[row_indexer,col_indexer] = value instead\n",
      "\n",
      "See the caveats in the documentation: https://pandas.pydata.org/pandas-docs/stable/user_guide/indexing.html#returning-a-view-versus-a-copy\n",
      "  df_features['age'] = df_features['age']/(max(df_features['age'])-min(df_features['age']))\n"
     ]
    }
   ],
   "source": [
    "df_features['age'] = df_features['age']/(max(df_features['age'])-min(df_features['age']))"
   ]
  },
  {
   "cell_type": "code",
   "execution_count": 13,
   "id": "99e56dad",
   "metadata": {},
   "outputs": [
    {
     "data": {
      "text/plain": [
       "op_sys             0\n",
       "package_type       0\n",
       "preferred_genre    0\n",
       "age                0\n",
       "male_TF            0\n",
       "dtype: int64"
      ]
     },
     "execution_count": 13,
     "metadata": {},
     "output_type": "execute_result"
    }
   ],
   "source": [
    "df_features.isna().sum()"
   ]
  },
  {
   "cell_type": "code",
   "execution_count": 14,
   "id": "f3b71177",
   "metadata": {},
   "outputs": [
    {
     "name": "stderr",
     "output_type": "stream",
     "text": [
      "<ipython-input-14-83f7e53e66df>:1: SettingWithCopyWarning: \n",
      "A value is trying to be set on a copy of a slice from a DataFrame.\n",
      "Try using .loc[row_indexer,col_indexer] = value instead\n",
      "\n",
      "See the caveats in the documentation: https://pandas.pydata.org/pandas-docs/stable/user_guide/indexing.html#returning-a-view-versus-a-copy\n",
      "  df_features['male_TF'] = df_features['male_TF'].astype('string')\n",
      "<ipython-input-14-83f7e53e66df>:2: SettingWithCopyWarning: \n",
      "A value is trying to be set on a copy of a slice from a DataFrame.\n",
      "Try using .loc[row_indexer,col_indexer] = value instead\n",
      "\n",
      "See the caveats in the documentation: https://pandas.pydata.org/pandas-docs/stable/user_guide/indexing.html#returning-a-view-versus-a-copy\n",
      "  df_features['male_TF'] = df_features['male_TF'].map({\"True\":1 ,\"False\":0})\n"
     ]
    }
   ],
   "source": [
    "df_features['male_TF'] = df_features['male_TF'].astype('string')\n",
    "df_features['male_TF'] = df_features['male_TF'].map({\"True\":1 ,\"False\":0})"
   ]
  },
  {
   "cell_type": "code",
   "execution_count": 15,
   "id": "965ba6a8",
   "metadata": {},
   "outputs": [
    {
     "data": {
      "text/html": [
       "<div>\n",
       "<style scoped>\n",
       "    .dataframe tbody tr th:only-of-type {\n",
       "        vertical-align: middle;\n",
       "    }\n",
       "\n",
       "    .dataframe tbody tr th {\n",
       "        vertical-align: top;\n",
       "    }\n",
       "\n",
       "    .dataframe thead th {\n",
       "        text-align: right;\n",
       "    }\n",
       "</style>\n",
       "<table border=\"1\" class=\"dataframe\">\n",
       "  <thead>\n",
       "    <tr style=\"text-align: right;\">\n",
       "      <th></th>\n",
       "      <th>op_sys</th>\n",
       "      <th>package_type</th>\n",
       "      <th>preferred_genre</th>\n",
       "      <th>age</th>\n",
       "      <th>male_TF</th>\n",
       "    </tr>\n",
       "  </thead>\n",
       "  <tbody>\n",
       "    <tr>\n",
       "      <th>496617</th>\n",
       "      <td>iOS</td>\n",
       "      <td>enhanced</td>\n",
       "      <td>regional</td>\n",
       "      <td>0.25</td>\n",
       "      <td>1</td>\n",
       "    </tr>\n",
       "    <tr>\n",
       "      <th>356799</th>\n",
       "      <td>Android</td>\n",
       "      <td>base</td>\n",
       "      <td>drama</td>\n",
       "      <td>0.30</td>\n",
       "      <td>0</td>\n",
       "    </tr>\n",
       "    <tr>\n",
       "      <th>681701</th>\n",
       "      <td>iOS</td>\n",
       "      <td>base</td>\n",
       "      <td>comedy</td>\n",
       "      <td>0.28</td>\n",
       "      <td>0</td>\n",
       "    </tr>\n",
       "    <tr>\n",
       "      <th>192823</th>\n",
       "      <td>Android</td>\n",
       "      <td>base</td>\n",
       "      <td>comedy</td>\n",
       "      <td>0.61</td>\n",
       "      <td>0</td>\n",
       "    </tr>\n",
       "    <tr>\n",
       "      <th>315863</th>\n",
       "      <td>iOS</td>\n",
       "      <td>base</td>\n",
       "      <td>drama</td>\n",
       "      <td>0.23</td>\n",
       "      <td>0</td>\n",
       "    </tr>\n",
       "  </tbody>\n",
       "</table>\n",
       "</div>"
      ],
      "text/plain": [
       "         op_sys package_type preferred_genre   age  male_TF\n",
       "496617      iOS     enhanced        regional  0.25        1\n",
       "356799  Android         base           drama  0.30        0\n",
       "681701      iOS         base          comedy  0.28        0\n",
       "192823  Android         base          comedy  0.61        0\n",
       "315863      iOS         base           drama  0.23        0"
      ]
     },
     "execution_count": 15,
     "metadata": {},
     "output_type": "execute_result"
    }
   ],
   "source": [
    "df_features.head()"
   ]
  },
  {
   "cell_type": "code",
   "execution_count": 16,
   "id": "234f99c5",
   "metadata": {},
   "outputs": [],
   "source": [
    "#get dummy"
   ]
  },
  {
   "cell_type": "code",
   "execution_count": 17,
   "id": "8264baa1",
   "metadata": {},
   "outputs": [],
   "source": [
    "op_sys_d=pd.get_dummies(df_features['op_sys'])\n",
    "\n",
    "df_features=pd.merge(df_features,op_sys_d,left_index=True,right_index=True)\n",
    "\n",
    "package_type_d=pd.get_dummies(df_features['package_type'])\n",
    "\n",
    "df_features=pd.merge(df_features,package_type_d,left_index=True,right_index=True)\n",
    "\n",
    "preferred_genre_d=pd.get_dummies(df_features['preferred_genre'])\n",
    "\n",
    "df_features=pd.merge(df_features,preferred_genre_d,left_index=True,right_index=True)"
   ]
  },
  {
   "cell_type": "code",
   "execution_count": 18,
   "id": "973e6890",
   "metadata": {},
   "outputs": [],
   "source": [
    "df_features = df_features.drop(['op_sys','package_type','preferred_genre'],axis = 1)"
   ]
  },
  {
   "cell_type": "code",
   "execution_count": 19,
   "id": "76e6f5de",
   "metadata": {},
   "outputs": [
    {
     "data": {
      "image/png": "[encoded data removed]",
      "text/plain": [
       "<Figure size 432x288 with 1 Axes>"
      ]
     },
     "metadata": {
      "needs_background": "light"
     },
     "output_type": "display_data"
    }
   ],
   "source": [
    "def fitting(df):\n",
    "    Sum_of_squared_distances = []\n",
    "    K = range(1,10)\n",
    "    for k in K:\n",
    "        km = KMeans(n_clusters=k)\n",
    "        km = km.fit(df)\n",
    "        Sum_of_squared_distances.append(km.inertia_)\n",
    "        #inertia_ reports the within group sum of squared errors, which is W in this Jupyter.\n",
    "    plt.plot(K, Sum_of_squared_distances, 'bx-')\n",
    "    plt.xlabel('k')\n",
    "    plt.ylabel('Sum_of_squared_distances')\n",
    "    plt.title('Elbow Method For Optimal k')\n",
    "    plt.show()\n",
    "    return \n",
    "\n",
    "fitting(df_features)"
   ]
  },
  {
   "cell_type": "code",
   "execution_count": 20,
   "id": "e414b944",
   "metadata": {},
   "outputs": [],
   "source": [
    "# k == 3 || k == 4"
   ]
  },
  {
   "cell_type": "code",
   "execution_count": 21,
   "id": "8450ba40",
   "metadata": {},
   "outputs": [],
   "source": [
    "#try 4\n",
    "X = df_features\n",
    "kmeans = KMeans(n_clusters=4)\n",
    "res = kmeans.fit(X)\n",
    "y = res.predict(X)\n",
    "y = y.tolist()\n",
    "df_q2['group'] = y"
   ]
  },
  {
   "cell_type": "code",
   "execution_count": 22,
   "id": "637bc846",
   "metadata": {},
   "outputs": [],
   "source": [
    "for i in range(4):\n",
    "    n = i + 1\n",
    "    locals()['df_group'+str(n)] = df_q2[df_q2['group'] == i]"
   ]
  },
  {
   "cell_type": "code",
   "execution_count": 23,
   "id": "fc3dbdc0",
   "metadata": {},
   "outputs": [
    {
     "name": "stderr",
     "output_type": "stream",
     "text": [
      "/opt/anaconda3/lib/python3.8/site-packages/seaborn/distributions.py:2557: FutureWarning: `distplot` is a deprecated function and will be removed in a future version. Please adapt your code to use either `displot` (a figure-level function with similar flexibility) or `histplot` (an axes-level function for histograms).\n",
      "  warnings.warn(msg, FutureWarning)\n",
      "/opt/anaconda3/lib/python3.8/site-packages/seaborn/distributions.py:2557: FutureWarning: `distplot` is a deprecated function and will be removed in a future version. Please adapt your code to use either `displot` (a figure-level function with similar flexibility) or `histplot` (an axes-level function for histograms).\n",
      "  warnings.warn(msg, FutureWarning)\n",
      "/opt/anaconda3/lib/python3.8/site-packages/seaborn/distributions.py:2557: FutureWarning: `distplot` is a deprecated function and will be removed in a future version. Please adapt your code to use either `displot` (a figure-level function with similar flexibility) or `histplot` (an axes-level function for histograms).\n",
      "  warnings.warn(msg, FutureWarning)\n",
      "/opt/anaconda3/lib/python3.8/site-packages/seaborn/distributions.py:2557: FutureWarning: `distplot` is a deprecated function and will be removed in a future version. Please adapt your code to use either `displot` (a figure-level function with similar flexibility) or `histplot` (an axes-level function for histograms).\n",
      "  warnings.warn(msg, FutureWarning)\n"
     ]
    },
    {
     "data": {
      "text/plain": [
       "<AxesSubplot:xlabel='age', ylabel='Density'>"
      ]
     },
     "execution_count": 23,
     "metadata": {},
     "output_type": "execute_result"
    },
    {
     "data": {
      "image/png": "[encoded data removed]",
      "text/plain": [
       "<Figure size 3600x576 with 4 Axes>"
      ]
     },
     "metadata": {
      "needs_background": "light"
     },
     "output_type": "display_data"
    }
   ],
   "source": [
    "#age distribution of each group\n",
    "\n",
    "plt.figure(figsize=(50,8))\n",
    "\n",
    "plt.subplot(1,5,1)\n",
    "sns.distplot(df_group1['age'])\n",
    "#plt.show()\n",
    "\n",
    "plt.subplot(1,5,2)\n",
    "sns.distplot(df_group2['age'])\n",
    "#plt.show()\n",
    "\n",
    "plt.subplot(1,5,3)\n",
    "sns.distplot(df_group3['age'])\n",
    "#plt.show()\n",
    "\n",
    "plt.subplot(1,5,4)\n",
    "sns.distplot(df_group4['age'])\n",
    "#plt.show()"
   ]
  },
  {
   "cell_type": "code",
   "execution_count": 24,
   "id": "703d0930",
   "metadata": {},
   "outputs": [
    {
     "data": {
      "text/html": [
       "<div>\n",
       "<style scoped>\n",
       "    .dataframe tbody tr th:only-of-type {\n",
       "        vertical-align: middle;\n",
       "    }\n",
       "\n",
       "    .dataframe tbody tr th {\n",
       "        vertical-align: top;\n",
       "    }\n",
       "\n",
       "    .dataframe thead th {\n",
       "        text-align: right;\n",
       "    }\n",
       "</style>\n",
       "<table border=\"1\" class=\"dataframe\">\n",
       "  <thead>\n",
       "    <tr style=\"text-align: right;\">\n",
       "      <th></th>\n",
       "      <th>sys</th>\n",
       "      <th>group1</th>\n",
       "      <th>group2</th>\n",
       "      <th>group3</th>\n",
       "      <th>group4</th>\n",
       "    </tr>\n",
       "  </thead>\n",
       "  <tbody>\n",
       "    <tr>\n",
       "      <th>0</th>\n",
       "      <td>Android</td>\n",
       "      <td>0</td>\n",
       "      <td>37025</td>\n",
       "      <td>0</td>\n",
       "      <td>13646</td>\n",
       "    </tr>\n",
       "    <tr>\n",
       "      <th>1</th>\n",
       "      <td>iOS</td>\n",
       "      <td>37947</td>\n",
       "      <td>0</td>\n",
       "      <td>33369</td>\n",
       "      <td>22505</td>\n",
       "    </tr>\n",
       "  </tbody>\n",
       "</table>\n",
       "</div>"
      ],
      "text/plain": [
       "       sys  group1  group2  group3  group4\n",
       "0  Android       0   37025       0   13646\n",
       "1      iOS   37947       0   33369   22505"
      ]
     },
     "execution_count": 24,
     "metadata": {},
     "output_type": "execute_result"
    }
   ],
   "source": [
    "# preferred op_sys\n",
    "op_sys_list = list(set(df_q2['op_sys']))\n",
    "dict_op_sys = defaultdict(list)\n",
    "dict_op_sys['sys'] = op_sys_list\n",
    "for i in range(4):\n",
    "    c = i + 1\n",
    "    n_list = list()\n",
    "    for op_sys in op_sys_list:\n",
    "        #print(op_sys)\n",
    "        n_list.append((locals()['df_group'+str(c)]['op_sys'] == op_sys).sum())\n",
    "    dict_op_sys['group'+str(c)] = n_list\n",
    "df_op_sys =pd.DataFrame.from_dict(dict_op_sys)\n",
    "df_op_sys"
   ]
  },
  {
   "cell_type": "code",
   "execution_count": 25,
   "id": "c43861de",
   "metadata": {},
   "outputs": [
    {
     "data": {
      "text/html": [
       "<div>\n",
       "<style scoped>\n",
       "    .dataframe tbody tr th:only-of-type {\n",
       "        vertical-align: middle;\n",
       "    }\n",
       "\n",
       "    .dataframe tbody tr th {\n",
       "        vertical-align: top;\n",
       "    }\n",
       "\n",
       "    .dataframe thead th {\n",
       "        text-align: right;\n",
       "    }\n",
       "</style>\n",
       "<table border=\"1\" class=\"dataframe\">\n",
       "  <thead>\n",
       "    <tr style=\"text-align: right;\">\n",
       "      <th></th>\n",
       "      <th>package</th>\n",
       "      <th>group1</th>\n",
       "      <th>group2</th>\n",
       "      <th>group3</th>\n",
       "      <th>group4</th>\n",
       "    </tr>\n",
       "  </thead>\n",
       "  <tbody>\n",
       "    <tr>\n",
       "      <th>0</th>\n",
       "      <td>economy</td>\n",
       "      <td>0</td>\n",
       "      <td>3393</td>\n",
       "      <td>5549</td>\n",
       "      <td>4968</td>\n",
       "    </tr>\n",
       "    <tr>\n",
       "      <th>1</th>\n",
       "      <td>enhanced</td>\n",
       "      <td>0</td>\n",
       "      <td>12787</td>\n",
       "      <td>27820</td>\n",
       "      <td>9713</td>\n",
       "    </tr>\n",
       "    <tr>\n",
       "      <th>2</th>\n",
       "      <td>base</td>\n",
       "      <td>37947</td>\n",
       "      <td>20845</td>\n",
       "      <td>0</td>\n",
       "      <td>21470</td>\n",
       "    </tr>\n",
       "  </tbody>\n",
       "</table>\n",
       "</div>"
      ],
      "text/plain": [
       "    package  group1  group2  group3  group4\n",
       "0   economy       0    3393    5549    4968\n",
       "1  enhanced       0   12787   27820    9713\n",
       "2      base   37947   20845       0   21470"
      ]
     },
     "execution_count": 25,
     "metadata": {},
     "output_type": "execute_result"
    }
   ],
   "source": [
    "# preferred package type for each group\n",
    "package_type_list = list(set(df_q2['package_type']))\n",
    "dict_package_type = defaultdict(list)\n",
    "dict_package_type['package'] = package_type_list\n",
    "for i in range(4):\n",
    "    c = i + 1\n",
    "    n_list = list()\n",
    "    for package_type in package_type_list:\n",
    "        #print(package_type)\n",
    "        n_list.append((locals()['df_group'+str(c)]['package_type'] == package_type).sum())\n",
    "    dict_package_type['group'+str(c)] = n_list\n",
    "df_package_type =pd.DataFrame.from_dict(dict_package_type)\n",
    "df_package_type"
   ]
  },
  {
   "cell_type": "code",
   "execution_count": 26,
   "id": "3db6a1d7",
   "metadata": {},
   "outputs": [],
   "source": [
    "# preferred genre for each group\n",
    "g_list = list(set(df_q2['preferred_genre']))\n",
    "dict_g = defaultdict(list)\n",
    "dict_g['genre'] = g_list\n",
    "for i in range(4):\n",
    "    c = i + 1\n",
    "    n_list = list()\n",
    "    for g in g_list:\n",
    "        #print(g)\n",
    "        n_list.append((locals()['df_group'+str(c)]['preferred_genre'] == g).sum())\n",
    "    dict_g['group'+str(c)] = n_list\n",
    "df_genre =pd.DataFrame.from_dict(dict_g)"
   ]
  },
  {
   "cell_type": "code",
   "execution_count": 27,
   "id": "7267782f",
   "metadata": {},
   "outputs": [
    {
     "data": {
      "text/html": [
       "<div>\n",
       "<style scoped>\n",
       "    .dataframe tbody tr th:only-of-type {\n",
       "        vertical-align: middle;\n",
       "    }\n",
       "\n",
       "    .dataframe tbody tr th {\n",
       "        vertical-align: top;\n",
       "    }\n",
       "\n",
       "    .dataframe thead th {\n",
       "        text-align: right;\n",
       "    }\n",
       "</style>\n",
       "<table border=\"1\" class=\"dataframe\">\n",
       "  <thead>\n",
       "    <tr style=\"text-align: right;\">\n",
       "      <th></th>\n",
       "      <th>genre</th>\n",
       "      <th>group1</th>\n",
       "      <th>group2</th>\n",
       "      <th>group3</th>\n",
       "      <th>group4</th>\n",
       "    </tr>\n",
       "  </thead>\n",
       "  <tbody>\n",
       "    <tr>\n",
       "      <th>0</th>\n",
       "      <td>drama</td>\n",
       "      <td>0</td>\n",
       "      <td>0</td>\n",
       "      <td>0</td>\n",
       "      <td>36151</td>\n",
       "    </tr>\n",
       "    <tr>\n",
       "      <th>1</th>\n",
       "      <td>comedy</td>\n",
       "      <td>32052</td>\n",
       "      <td>31091</td>\n",
       "      <td>28187</td>\n",
       "      <td>0</td>\n",
       "    </tr>\n",
       "    <tr>\n",
       "      <th>2</th>\n",
       "      <td>regional</td>\n",
       "      <td>2809</td>\n",
       "      <td>2389</td>\n",
       "      <td>2858</td>\n",
       "      <td>0</td>\n",
       "    </tr>\n",
       "    <tr>\n",
       "      <th>3</th>\n",
       "      <td>international</td>\n",
       "      <td>1797</td>\n",
       "      <td>2236</td>\n",
       "      <td>1323</td>\n",
       "      <td>0</td>\n",
       "    </tr>\n",
       "    <tr>\n",
       "      <th>4</th>\n",
       "      <td>other</td>\n",
       "      <td>1289</td>\n",
       "      <td>1309</td>\n",
       "      <td>1001</td>\n",
       "      <td>0</td>\n",
       "    </tr>\n",
       "  </tbody>\n",
       "</table>\n",
       "</div>"
      ],
      "text/plain": [
       "           genre  group1  group2  group3  group4\n",
       "0          drama       0       0       0   36151\n",
       "1         comedy   32052   31091   28187       0\n",
       "2       regional    2809    2389    2858       0\n",
       "3  international    1797    2236    1323       0\n",
       "4          other    1289    1309    1001       0"
      ]
     },
     "execution_count": 27,
     "metadata": {},
     "output_type": "execute_result"
    }
   ],
   "source": [
    "df_genre"
   ]
  },
  {
   "cell_type": "code",
   "execution_count": 33,
   "id": "5916a1e1",
   "metadata": {},
   "outputs": [
    {
     "data": {
      "text/html": [
       "<div>\n",
       "<style scoped>\n",
       "    .dataframe tbody tr th:only-of-type {\n",
       "        vertical-align: middle;\n",
       "    }\n",
       "\n",
       "    .dataframe tbody tr th {\n",
       "        vertical-align: top;\n",
       "    }\n",
       "\n",
       "    .dataframe thead th {\n",
       "        text-align: right;\n",
       "    }\n",
       "</style>\n",
       "<table border=\"1\" class=\"dataframe\">\n",
       "  <thead>\n",
       "    <tr style=\"text-align: right;\">\n",
       "      <th></th>\n",
       "      <th>subid</th>\n",
       "      <th>package_type</th>\n",
       "      <th>num_weekly_services_utilized</th>\n",
       "      <th>preferred_genre</th>\n",
       "      <th>intended_use</th>\n",
       "      <th>weekly_consumption_hour</th>\n",
       "      <th>num_ideal_streaming_services</th>\n",
       "      <th>retarget_TF</th>\n",
       "      <th>age</th>\n",
       "      <th>male_TF</th>\n",
       "      <th>...</th>\n",
       "      <th>cancel_before_trial_end</th>\n",
       "      <th>trial_end_date</th>\n",
       "      <th>initial_credit_card_declined</th>\n",
       "      <th>revenue_net</th>\n",
       "      <th>join_fee</th>\n",
       "      <th>language</th>\n",
       "      <th>paid_TF</th>\n",
       "      <th>refund_after_trial_TF</th>\n",
       "      <th>payment_type</th>\n",
       "      <th>group</th>\n",
       "    </tr>\n",
       "  </thead>\n",
       "  <tbody>\n",
       "    <tr>\n",
       "      <th>681701</th>\n",
       "      <td>26723159</td>\n",
       "      <td>base</td>\n",
       "      <td>3.731089</td>\n",
       "      <td>comedy</td>\n",
       "      <td>replace OTT</td>\n",
       "      <td>22.951579</td>\n",
       "      <td>2.506384</td>\n",
       "      <td>False</td>\n",
       "      <td>28.0</td>\n",
       "      <td>False</td>\n",
       "      <td>...</td>\n",
       "      <td>False</td>\n",
       "      <td>2019-10-20</td>\n",
       "      <td>False</td>\n",
       "      <td>0.0</td>\n",
       "      <td>0.0367</td>\n",
       "      <td>ar</td>\n",
       "      <td>False</td>\n",
       "      <td>False</td>\n",
       "      <td>NaN</td>\n",
       "      <td>0</td>\n",
       "    </tr>\n",
       "    <tr>\n",
       "      <th>254782</th>\n",
       "      <td>24930568</td>\n",
       "      <td>base</td>\n",
       "      <td>NaN</td>\n",
       "      <td>comedy</td>\n",
       "      <td>access to exclusive content</td>\n",
       "      <td>25.851492</td>\n",
       "      <td>NaN</td>\n",
       "      <td>False</td>\n",
       "      <td>73.0</td>\n",
       "      <td>False</td>\n",
       "      <td>...</td>\n",
       "      <td>False</td>\n",
       "      <td>2020-03-09</td>\n",
       "      <td>False</td>\n",
       "      <td>0.0</td>\n",
       "      <td>0.6606</td>\n",
       "      <td>ar</td>\n",
       "      <td>False</td>\n",
       "      <td>False</td>\n",
       "      <td>NaN</td>\n",
       "      <td>0</td>\n",
       "    </tr>\n",
       "    <tr>\n",
       "      <th>277565</th>\n",
       "      <td>25393847</td>\n",
       "      <td>base</td>\n",
       "      <td>2.452687</td>\n",
       "      <td>regional</td>\n",
       "      <td>supplement OTT</td>\n",
       "      <td>28.751405</td>\n",
       "      <td>1.842940</td>\n",
       "      <td>False</td>\n",
       "      <td>57.0</td>\n",
       "      <td>False</td>\n",
       "      <td>...</td>\n",
       "      <td>False</td>\n",
       "      <td>2019-10-13</td>\n",
       "      <td>False</td>\n",
       "      <td>0.0</td>\n",
       "      <td>0.0367</td>\n",
       "      <td>ar</td>\n",
       "      <td>False</td>\n",
       "      <td>False</td>\n",
       "      <td>NaN</td>\n",
       "      <td>0</td>\n",
       "    </tr>\n",
       "    <tr>\n",
       "      <th>389385</th>\n",
       "      <td>23676530</td>\n",
       "      <td>base</td>\n",
       "      <td>NaN</td>\n",
       "      <td>comedy</td>\n",
       "      <td>access to exclusive content</td>\n",
       "      <td>24.401536</td>\n",
       "      <td>NaN</td>\n",
       "      <td>False</td>\n",
       "      <td>21.0</td>\n",
       "      <td>False</td>\n",
       "      <td>...</td>\n",
       "      <td>False</td>\n",
       "      <td>2020-03-24</td>\n",
       "      <td>False</td>\n",
       "      <td>0.0</td>\n",
       "      <td>0.3303</td>\n",
       "      <td>ar</td>\n",
       "      <td>False</td>\n",
       "      <td>False</td>\n",
       "      <td>NaN</td>\n",
       "      <td>0</td>\n",
       "    </tr>\n",
       "    <tr>\n",
       "      <th>659754</th>\n",
       "      <td>23299478</td>\n",
       "      <td>base</td>\n",
       "      <td>2.420285</td>\n",
       "      <td>comedy</td>\n",
       "      <td>replace OTT</td>\n",
       "      <td>22.951579</td>\n",
       "      <td>1.893894</td>\n",
       "      <td>False</td>\n",
       "      <td>35.0</td>\n",
       "      <td>False</td>\n",
       "      <td>...</td>\n",
       "      <td>False</td>\n",
       "      <td>2020-01-08</td>\n",
       "      <td>False</td>\n",
       "      <td>0.0</td>\n",
       "      <td>0.0367</td>\n",
       "      <td>ar</td>\n",
       "      <td>False</td>\n",
       "      <td>False</td>\n",
       "      <td>NaN</td>\n",
       "      <td>0</td>\n",
       "    </tr>\n",
       "    <tr>\n",
       "      <th>...</th>\n",
       "      <td>...</td>\n",
       "      <td>...</td>\n",
       "      <td>...</td>\n",
       "      <td>...</td>\n",
       "      <td>...</td>\n",
       "      <td>...</td>\n",
       "      <td>...</td>\n",
       "      <td>...</td>\n",
       "      <td>...</td>\n",
       "      <td>...</td>\n",
       "      <td>...</td>\n",
       "      <td>...</td>\n",
       "      <td>...</td>\n",
       "      <td>...</td>\n",
       "      <td>...</td>\n",
       "      <td>...</td>\n",
       "      <td>...</td>\n",
       "      <td>...</td>\n",
       "      <td>...</td>\n",
       "      <td>...</td>\n",
       "      <td>...</td>\n",
       "    </tr>\n",
       "    <tr>\n",
       "      <th>514152</th>\n",
       "      <td>29324294</td>\n",
       "      <td>base</td>\n",
       "      <td>NaN</td>\n",
       "      <td>other</td>\n",
       "      <td>replace OTT</td>\n",
       "      <td>28.751405</td>\n",
       "      <td>NaN</td>\n",
       "      <td>False</td>\n",
       "      <td>59.0</td>\n",
       "      <td>False</td>\n",
       "      <td>...</td>\n",
       "      <td>False</td>\n",
       "      <td>2019-12-01</td>\n",
       "      <td>False</td>\n",
       "      <td>0.0</td>\n",
       "      <td>0.0367</td>\n",
       "      <td>ar</td>\n",
       "      <td>False</td>\n",
       "      <td>False</td>\n",
       "      <td>NaN</td>\n",
       "      <td>0</td>\n",
       "    </tr>\n",
       "    <tr>\n",
       "      <th>428794</th>\n",
       "      <td>23208350</td>\n",
       "      <td>base</td>\n",
       "      <td>NaN</td>\n",
       "      <td>comedy</td>\n",
       "      <td>replace OTT</td>\n",
       "      <td>25.851492</td>\n",
       "      <td>NaN</td>\n",
       "      <td>False</td>\n",
       "      <td>45.0</td>\n",
       "      <td>False</td>\n",
       "      <td>...</td>\n",
       "      <td>False</td>\n",
       "      <td>2019-10-31</td>\n",
       "      <td>False</td>\n",
       "      <td>0.0</td>\n",
       "      <td>0.0367</td>\n",
       "      <td>ar</td>\n",
       "      <td>False</td>\n",
       "      <td>False</td>\n",
       "      <td>NaN</td>\n",
       "      <td>0</td>\n",
       "    </tr>\n",
       "    <tr>\n",
       "      <th>632153</th>\n",
       "      <td>24614848</td>\n",
       "      <td>base</td>\n",
       "      <td>2.545474</td>\n",
       "      <td>regional</td>\n",
       "      <td>replace OTT</td>\n",
       "      <td>25.851492</td>\n",
       "      <td>1.949272</td>\n",
       "      <td>False</td>\n",
       "      <td>36.0</td>\n",
       "      <td>False</td>\n",
       "      <td>...</td>\n",
       "      <td>False</td>\n",
       "      <td>2020-02-06</td>\n",
       "      <td>False</td>\n",
       "      <td>0.0</td>\n",
       "      <td>0.1101</td>\n",
       "      <td>ar</td>\n",
       "      <td>False</td>\n",
       "      <td>False</td>\n",
       "      <td>NaN</td>\n",
       "      <td>0</td>\n",
       "    </tr>\n",
       "    <tr>\n",
       "      <th>281340</th>\n",
       "      <td>24799085</td>\n",
       "      <td>base</td>\n",
       "      <td>NaN</td>\n",
       "      <td>comedy</td>\n",
       "      <td>access to exclusive content</td>\n",
       "      <td>31.651317</td>\n",
       "      <td>NaN</td>\n",
       "      <td>False</td>\n",
       "      <td>45.0</td>\n",
       "      <td>False</td>\n",
       "      <td>...</td>\n",
       "      <td>True</td>\n",
       "      <td>2020-01-05</td>\n",
       "      <td>True</td>\n",
       "      <td>0.0</td>\n",
       "      <td>0.0367</td>\n",
       "      <td>ar</td>\n",
       "      <td>False</td>\n",
       "      <td>False</td>\n",
       "      <td>NaN</td>\n",
       "      <td>0</td>\n",
       "    </tr>\n",
       "    <tr>\n",
       "      <th>598241</th>\n",
       "      <td>20166335</td>\n",
       "      <td>base</td>\n",
       "      <td>NaN</td>\n",
       "      <td>comedy</td>\n",
       "      <td>replace OTT</td>\n",
       "      <td>25.851492</td>\n",
       "      <td>NaN</td>\n",
       "      <td>False</td>\n",
       "      <td>55.0</td>\n",
       "      <td>False</td>\n",
       "      <td>...</td>\n",
       "      <td>False</td>\n",
       "      <td>2019-12-11</td>\n",
       "      <td>False</td>\n",
       "      <td>0.0</td>\n",
       "      <td>0.0367</td>\n",
       "      <td>ar</td>\n",
       "      <td>False</td>\n",
       "      <td>False</td>\n",
       "      <td>NaN</td>\n",
       "      <td>0</td>\n",
       "    </tr>\n",
       "  </tbody>\n",
       "</table>\n",
       "<p>37947 rows × 30 columns</p>\n",
       "</div>"
      ],
      "text/plain": [
       "           subid package_type  num_weekly_services_utilized preferred_genre  \\\n",
       "681701  26723159         base                      3.731089          comedy   \n",
       "254782  24930568         base                           NaN          comedy   \n",
       "277565  25393847         base                      2.452687        regional   \n",
       "389385  23676530         base                           NaN          comedy   \n",
       "659754  23299478         base                      2.420285          comedy   \n",
       "...          ...          ...                           ...             ...   \n",
       "514152  29324294         base                           NaN           other   \n",
       "428794  23208350         base                           NaN          comedy   \n",
       "632153  24614848         base                      2.545474        regional   \n",
       "281340  24799085         base                           NaN          comedy   \n",
       "598241  20166335         base                           NaN          comedy   \n",
       "\n",
       "                       intended_use  weekly_consumption_hour  \\\n",
       "681701                  replace OTT                22.951579   \n",
       "254782  access to exclusive content                25.851492   \n",
       "277565               supplement OTT                28.751405   \n",
       "389385  access to exclusive content                24.401536   \n",
       "659754                  replace OTT                22.951579   \n",
       "...                             ...                      ...   \n",
       "514152                  replace OTT                28.751405   \n",
       "428794                  replace OTT                25.851492   \n",
       "632153                  replace OTT                25.851492   \n",
       "281340  access to exclusive content                31.651317   \n",
       "598241                  replace OTT                25.851492   \n",
       "\n",
       "        num_ideal_streaming_services  retarget_TF   age male_TF  ...  \\\n",
       "681701                      2.506384        False  28.0   False  ...   \n",
       "254782                           NaN        False  73.0   False  ...   \n",
       "277565                      1.842940        False  57.0   False  ...   \n",
       "389385                           NaN        False  21.0   False  ...   \n",
       "659754                      1.893894        False  35.0   False  ...   \n",
       "...                              ...          ...   ...     ...  ...   \n",
       "514152                           NaN        False  59.0   False  ...   \n",
       "428794                           NaN        False  45.0   False  ...   \n",
       "632153                      1.949272        False  36.0   False  ...   \n",
       "281340                           NaN        False  45.0   False  ...   \n",
       "598241                           NaN        False  55.0   False  ...   \n",
       "\n",
       "       cancel_before_trial_end trial_end_date initial_credit_card_declined  \\\n",
       "681701                   False     2019-10-20                        False   \n",
       "254782                   False     2020-03-09                        False   \n",
       "277565                   False     2019-10-13                        False   \n",
       "389385                   False     2020-03-24                        False   \n",
       "659754                   False     2020-01-08                        False   \n",
       "...                        ...            ...                          ...   \n",
       "514152                   False     2019-12-01                        False   \n",
       "428794                   False     2019-10-31                        False   \n",
       "632153                   False     2020-02-06                        False   \n",
       "281340                    True     2020-01-05                         True   \n",
       "598241                   False     2019-12-11                        False   \n",
       "\n",
       "       revenue_net  join_fee language  paid_TF  refund_after_trial_TF  \\\n",
       "681701         0.0    0.0367       ar    False                  False   \n",
       "254782         0.0    0.6606       ar    False                  False   \n",
       "277565         0.0    0.0367       ar    False                  False   \n",
       "389385         0.0    0.3303       ar    False                  False   \n",
       "659754         0.0    0.0367       ar    False                  False   \n",
       "...            ...       ...      ...      ...                    ...   \n",
       "514152         0.0    0.0367       ar    False                  False   \n",
       "428794         0.0    0.0367       ar    False                  False   \n",
       "632153         0.0    0.1101       ar    False                  False   \n",
       "281340         0.0    0.0367       ar    False                  False   \n",
       "598241         0.0    0.0367       ar    False                  False   \n",
       "\n",
       "       payment_type  group  \n",
       "681701          NaN      0  \n",
       "254782          NaN      0  \n",
       "277565          NaN      0  \n",
       "389385          NaN      0  \n",
       "659754          NaN      0  \n",
       "...             ...    ...  \n",
       "514152          NaN      0  \n",
       "428794          NaN      0  \n",
       "632153          NaN      0  \n",
       "281340          NaN      0  \n",
       "598241          NaN      0  \n",
       "\n",
       "[37947 rows x 30 columns]"
      ]
     },
     "execution_count": 33,
     "metadata": {},
     "output_type": "execute_result"
    }
   ],
   "source": [
    "df_group1"
   ]
  },
  {
   "cell_type": "code",
   "execution_count": 34,
   "id": "550cf194",
   "metadata": {},
   "outputs": [
    {
     "data": {
      "text/plain": [
       "45.60910659713823"
      ]
     },
     "execution_count": 34,
     "metadata": {},
     "output_type": "execute_result"
    }
   ],
   "source": [
    "df_group1['age'].sum()/df_group1.shape[0]\n"
   ]
  },
  {
   "cell_type": "code",
   "execution_count": 35,
   "id": "9b5eb811",
   "metadata": {},
   "outputs": [
    {
     "data": {
      "text/plain": [
       "44.00643778200558"
      ]
     },
     "execution_count": 35,
     "metadata": {},
     "output_type": "execute_result"
    }
   ],
   "source": [
    "df_group2['age'].sum()/df_group1.shape[0]"
   ]
  },
  {
   "cell_type": "code",
   "execution_count": 36,
   "id": "38aae558",
   "metadata": {},
   "outputs": [
    {
     "data": {
      "text/plain": [
       "37.68778482622709"
      ]
     },
     "execution_count": 36,
     "metadata": {},
     "output_type": "execute_result"
    }
   ],
   "source": [
    "df_group3['age'].sum()/df_group1.shape[0]"
   ]
  },
  {
   "cell_type": "code",
   "execution_count": 37,
   "id": "bd8b4e76",
   "metadata": {},
   "outputs": [
    {
     "data": {
      "text/plain": [
       "46.07921915907286"
      ]
     },
     "execution_count": 37,
     "metadata": {},
     "output_type": "execute_result"
    }
   ],
   "source": [
    "df_group4['age'].sum()/df_group1.shape[0]"
   ]
  },
  {
   "cell_type": "markdown",
   "id": "4ed51377",
   "metadata": {},
   "source": [
    "## Attribution and Allocation"
   ]
  },
  {
   "cell_type": "code",
   "execution_count": 28,
   "id": "1b32da37",
   "metadata": {},
   "outputs": [
    {
     "name": "stdout",
     "output_type": "stream",
     "text": [
      "<class 'pandas.core.frame.DataFrame'>\n",
      "Int64Index: 227628 entries, 162502 to 598241\n",
      "Data columns (total 29 columns):\n",
      " #   Column                        Non-Null Count   Dtype         \n",
      "---  ------                        --------------   -----         \n",
      " 0   subid                         227628 non-null  int64         \n",
      " 1   package_type                  192054 non-null  object        \n",
      " 2   num_weekly_services_utilized  117178 non-null  float64       \n",
      " 3   preferred_genre               191302 non-null  object        \n",
      " 4   intended_use                  224079 non-null  object        \n",
      " 5   weekly_consumption_hour       189698 non-null  float64       \n",
      " 6   num_ideal_streaming_services  115458 non-null  float64       \n",
      " 7   retarget_TF                   227628 non-null  bool          \n",
      " 8   age                           192459 non-null  float64       \n",
      " 9   male_TF                       227359 non-null  object        \n",
      " 10  country                       227628 non-null  object        \n",
      " 11  attribution_technical         227628 non-null  object        \n",
      " 12  attribution_survey            224984 non-null  object        \n",
      " 13  op_sys                        214253 non-null  object        \n",
      " 14  months_per_bill_period        227628 non-null  int64         \n",
      " 15  plan_type                     227628 non-null  object        \n",
      " 16  monthly_price                 227628 non-null  float64       \n",
      " 17  discount_price                227628 non-null  float64       \n",
      " 18  account_creation_date         227628 non-null  datetime64[ns]\n",
      " 19  creation_until_cancel_days    151768 non-null  float64       \n",
      " 20  cancel_before_trial_end       227628 non-null  bool          \n",
      " 21  trial_end_date                227628 non-null  datetime64[ns]\n",
      " 22  initial_credit_card_declined  227628 non-null  bool          \n",
      " 23  revenue_net                   192724 non-null  float64       \n",
      " 24  join_fee                      192724 non-null  float64       \n",
      " 25  language                      227628 non-null  object        \n",
      " 26  paid_TF                       227628 non-null  bool          \n",
      " 27  refund_after_trial_TF         227628 non-null  bool          \n",
      " 28  payment_type                  92050 non-null   object        \n",
      "dtypes: bool(5), datetime64[ns](2), float64(9), int64(2), object(11)\n",
      "memory usage: 44.5+ MB\n"
     ]
    }
   ],
   "source": [
    "#import data\n",
    "df_subs.info()"
   ]
  },
  {
   "cell_type": "code",
   "execution_count": 29,
   "id": "5541db08",
   "metadata": {},
   "outputs": [],
   "source": [
    "# 6/30/19 monthly spend\n",
    "tier1 = {'facebook':84800, 'email': 75000, 'search': 17300, 'brand sem intent google': 21400, 'affiliate': 11900, 'email_blast':10500, 'pinterest':5900, 'referral':6100}\n",
    "# 7/31/19\n",
    "tier1 = {'facebook':60000, 'email': 75600, 'search': 17300, 'brand sem intent google': 21300, 'affiliate': 12000, 'email_blast':29800, 'pinterest':6000, 'referral':6600}\n",
    "# 8/31/19\n",
    "tier1 = {'facebook':52300, 'email': 76100, 'search': 18100, 'brand sem intent google': 21300, 'affiliate': 16300, 'email_blast':65900, 'pinterest':6200, 'referral':6800}\n",
    "# 9/30/19\n",
    "tier1 = {'facebook':49000, 'email': 75800, 'search': 18900, 'brand sem intent google': 21300, 'affiliate': 16400, 'email_blast':73700, 'pinterest':6000, 'referral':7400}\n",
    "# 10/31/19\n",
    "tier1 = {'facebook':51300, 'email': 76000, 'search': 21000, 'brand sem intent google': 21400, 'affiliate': 12200, 'email_blast':32300, 'pinterest':6700, 'referral':7300}\n",
    "# 11/30/19\n",
    "tier1 = {'facebook':56100, 'email': 75900, 'search': 21400, 'brand sem intent google': 21600, 'affiliate': 11700, 'email_blast':9800, 'pinterest':6300, 'referral':7300}\n",
    "# 12/31/19\n",
    "tier1 = {'facebook':51400, 'email': 76100, 'search': 32100, 'brand sem intent google': 22200, 'affiliate': 12100, 'email_blast':3500, 'pinterest':7200, 'referral':8000}\n",
    "# 1/31/20\n",
    "tier1 = {'facebook':49000, 'email': 75500, 'search': 33600, 'brand sem intent google': 22700, 'affiliate': 14300, 'email_blast':300, 'pinterest':6700, 'referral':7400}\n",
    "# 2/29/20\n",
    "tier1 = {'facebook':49700, 'email': 76600, 'search': 30100, 'brand sem intent google': 21700, 'affiliate': 15000, 'email_blast':300, 'pinterest':6400, 'referral':6500}\n",
    "# 3/31/20\n",
    "tier1 = {'facebook':49100, 'email': 78000, 'search': 22700, 'brand sem intent google': 21200, 'affiliate': 17600, 'email_blast':300, 'pinterest':5900, 'referral':10000}\n",
    "\n",
    "\n",
    "total_spend = {'facebook':552700, 'email': 760600, 'search': 232500, 'brand sem intent google': 216100, 'affiliate': 139500, 'email_blast':226400, 'pinterest':63300, 'referral':73400}\n"
   ]
  },
  {
   "cell_type": "code",
   "execution_count": 30,
   "id": "7aeb30b9",
   "metadata": {},
   "outputs": [
    {
     "data": {
      "text/plain": [
       "facebook                   80251\n",
       "email                      25690\n",
       "search                     25306\n",
       "organic                    22013\n",
       "brand sem intent google    18524\n",
       "google_organic             10691\n",
       "affiliate                   9894\n",
       "email_blast                 7277\n",
       "pinterest                   6065\n",
       "referral                    5170\n",
       "facebook_organic            3272\n",
       "discovery                   2571\n",
       "brand sem intent bing       2231\n",
       "other                       1786\n",
       "display                     1407\n",
       "bing                        1146\n",
       "internal                    1122\n",
       "podcast                      985\n",
       "youtube                      913\n",
       "bing_organic                 369\n",
       "vod                          297\n",
       "ott                          158\n",
       "direct_mail                  139\n",
       "quora                        100\n",
       "samsung                       86\n",
       "appstore                      44\n",
       "criteo                        44\n",
       "pinterest_organic             30\n",
       "influencer                    21\n",
       "playstore                     12\n",
       "twitter                        5\n",
       "content_greatist               5\n",
       "tv                             4\n",
       "Name: attribution_technical, dtype: int64"
      ]
     },
     "execution_count": 30,
     "metadata": {},
     "output_type": "execute_result"
    }
   ],
   "source": [
    "#calculate cac for last interaction model （attribution_survey）\n",
    "df_subs[\"attribution_technical\"].value_counts()"
   ]
  },
  {
   "cell_type": "code",
   "execution_count": 31,
   "id": "c3ef86b5",
   "metadata": {},
   "outputs": [],
   "source": [
    "facebook_num = 80251\n",
    "email_num = 25690\n",
    "search_num = 25306\n",
    "brand_sem_intent_google_num = 18524\n",
    "affiliate_num = 9894\n",
    "email_blast_num = 7277\n",
    "pinterest_num = 6065\n",
    "referral_num = 5170\n",
    "\n",
    "total_num = {'facebook':80251, 'email': 25690, 'search': 25306, 'brand sem intent google': 18524, 'affiliate': 9894, 'email_blast':7277, 'pinterest':6065, 'referral':5170}"
   ]
  },
  {
   "cell_type": "code",
   "execution_count": null,
   "id": "36fb6cfb",
   "metadata": {},
   "outputs": [],
   "source": []
  },
  {
   "cell_type": "code",
   "execution_count": 32,
   "id": "c2b9fab4",
   "metadata": {},
   "outputs": [
    {
     "data": {
      "text/plain": [
       "{'facebook': 6.887141593251174,\n",
       " 'email': 29.606850914752822,\n",
       " 'search': 9.18754445586027,\n",
       " 'brand sem intent google': 11.665946879723602,\n",
       " 'affiliate': 14.09945421467556,\n",
       " 'email_blast': 31.11172186340525,\n",
       " 'pinterest': 10.436933223413025,\n",
       " 'referral': 14.197292069632494}"
      ]
     },
     "execution_count": 32,
     "metadata": {},
     "output_type": "execute_result"
    }
   ],
   "source": [
    "# Here we calculate the cac for last interaction\n",
    "cac_last = {}\n",
    "for key in total_spend.keys():\n",
    "    cac_last[key] = int(total_spend[key])/int(total_num[key])\n",
    "cac_last"
   ]
  },
  {
   "cell_type": "markdown",
   "id": "e8da8a8c",
   "metadata": {},
   "source": [
    "## Churn"
   ]
  },
  {
   "cell_type": "code",
   "execution_count": 38,
   "id": "d3067a39",
   "metadata": {},
   "outputs": [],
   "source": [
    "#import data\n",
    "df_conser = pd.read_pickle('customer_service_reps')\n",
    "df_eng = pd.read_pickle('engagement')\n",
    "#df_subs"
   ]
  },
  {
   "cell_type": "code",
   "execution_count": 39,
   "id": "09ec0792",
   "metadata": {},
   "outputs": [],
   "source": [
    "df_conser.reset_index(inplace = True)\n",
    "df_conser.drop(['index'],axis = 1,inplace = True)"
   ]
  },
  {
   "cell_type": "code",
   "execution_count": 40,
   "id": "752d5d6a",
   "metadata": {},
   "outputs": [],
   "source": [
    "df_eng.reset_index(inplace = True)\n",
    "df_eng.drop(['index'],axis = 1,inplace = True)"
   ]
  },
  {
   "cell_type": "code",
   "execution_count": 42,
   "id": "5a70699d",
   "metadata": {},
   "outputs": [],
   "source": [
    "df_subs.reset_index(inplace = True)\n",
    "df_subs.drop(['index'],axis = 1,inplace = True)"
   ]
  },
  {
   "cell_type": "code",
   "execution_count": 44,
   "id": "c89092c5",
   "metadata": {},
   "outputs": [],
   "source": [
    "df_subs.loc[df_subs['attribution_technical'] == 'brand sem intent google', 'attribution_technical'] = 'brand_sem_intent_google'\n"
   ]
  },
  {
   "cell_type": "code",
   "execution_count": 45,
   "id": "076ca5fd",
   "metadata": {},
   "outputs": [],
   "source": [
    "df_subs_churn = df_subs.copy(deep=True)"
   ]
  },
  {
   "cell_type": "code",
   "execution_count": 46,
   "id": "98e5c5ee",
   "metadata": {},
   "outputs": [],
   "source": [
    "listuser = set(df_conser['subid'])\n",
    "df_current = df_conser.drop_duplicates('subid')\n",
    "df_current.index = df_current['subid']"
   ]
  },
  {
   "cell_type": "code",
   "execution_count": 47,
   "id": "f7a83441",
   "metadata": {},
   "outputs": [],
   "source": [
    "df_num_period = pd.DataFrame(df_eng.groupby('subid')['payment_period'].max() + 1)"
   ]
  },
  {
   "cell_type": "code",
   "execution_count": 48,
   "id": "0144a355",
   "metadata": {},
   "outputs": [],
   "source": [
    "df_eng = df_eng.groupby('subid').sum()\n",
    "df_eng.drop(['payment_period'],axis =1,inplace =True)"
   ]
  },
  {
   "cell_type": "code",
   "execution_count": 49,
   "id": "3c27068f",
   "metadata": {},
   "outputs": [],
   "source": [
    "df_eng = pd.concat([df_eng, df_num_period], axis = 1)"
   ]
  },
  {
   "cell_type": "code",
   "execution_count": 51,
   "id": "8d3226a6",
   "metadata": {},
   "outputs": [],
   "source": [
    "eng_fea_list = ['app_opens','cust_service_mssgs','num_videos_completed','num_videos_more_than_30_seconds','num_videos_rated','num_series_started']\n",
    "for i in eng_fea_list:\n",
    "    df_eng[i] = df_eng[i]/df_eng['payment_period']"
   ]
  },
  {
   "cell_type": "code",
   "execution_count": null,
   "id": "1f660193",
   "metadata": {},
   "outputs": [],
   "source": [
    "#df_whole = pd.merge(df_subs,df_eng,on=['subid'],how='left')"
   ]
  },
  {
   "cell_type": "code",
   "execution_count": null,
   "id": "5c1f1f77",
   "metadata": {},
   "outputs": [],
   "source": [
    "\n",
    "for i in tqdm(range(df_sub.shape[0])):\n",
    "    try:\n",
    "        user_id = df_sub_churn.loc[i,'subid']\n",
    "        df_sub_churn.loc[i,'current_sub_TF'] = df_current.loc[user_id,'current_sub_TF']\n",
    "        for feature in eng_fea_list:\n",
    "            df_sub_churn.loc[i,feature] = df_eng_churn.loc[user_id,feature]\n",
    "    except: \n",
    "        continue\n"
   ]
  },
  {
   "cell_type": "code",
   "execution_count": null,
   "id": "25f6601d",
   "metadata": {},
   "outputs": [],
   "source": [
    "df_sub_churn.to_csv('df_sub_churn.csv', index = False)"
   ]
  },
  {
   "cell_type": "code",
   "execution_count": 53,
   "id": "e4efde97",
   "metadata": {},
   "outputs": [],
   "source": [
    "data = pd.read_csv(\"df_sub_churn.csv\")"
   ]
  },
  {
   "cell_type": "code",
   "execution_count": 54,
   "id": "6872f88d",
   "metadata": {},
   "outputs": [
    {
     "name": "stdout",
     "output_type": "stream",
     "text": [
      "<class 'pandas.core.frame.DataFrame'>\n",
      "RangeIndex: 227628 entries, 0 to 227627\n",
      "Data columns (total 36 columns):\n",
      " #   Column                           Non-Null Count   Dtype  \n",
      "---  ------                           --------------   -----  \n",
      " 0   subid                            227628 non-null  int64  \n",
      " 1   package_type                     192054 non-null  object \n",
      " 2   num_weekly_services_utilized     117178 non-null  float64\n",
      " 3   preferred_genre                  191302 non-null  object \n",
      " 4   intended_use                     224079 non-null  object \n",
      " 5   weekly_consumption_hour          189698 non-null  float64\n",
      " 6   num_ideal_streaming_services     115458 non-null  float64\n",
      " 7   retarget_TF                      227628 non-null  bool   \n",
      " 8   age                              192459 non-null  float64\n",
      " 9   male_TF                          227359 non-null  object \n",
      " 10  country                          227628 non-null  object \n",
      " 11  attribution_technical            227628 non-null  object \n",
      " 12  attribution_survey               224984 non-null  object \n",
      " 13  op_sys                           214253 non-null  object \n",
      " 14  months_per_bill_period           227628 non-null  int64  \n",
      " 15  plan_type                        227628 non-null  object \n",
      " 16  monthly_price                    227628 non-null  float64\n",
      " 17  discount_price                   227628 non-null  float64\n",
      " 18  account_creation_date            227628 non-null  object \n",
      " 19  creation_until_cancel_days       151768 non-null  float64\n",
      " 20  cancel_before_trial_end          227628 non-null  bool   \n",
      " 21  trial_end_date                   227628 non-null  object \n",
      " 22  initial_credit_card_declined     227628 non-null  bool   \n",
      " 23  revenue_net                      192724 non-null  float64\n",
      " 24  join_fee                         192724 non-null  float64\n",
      " 25  language                         227628 non-null  object \n",
      " 26  paid_TF                          227628 non-null  bool   \n",
      " 27  refund_after_trial_TF            227628 non-null  bool   \n",
      " 28  payment_type                     92050 non-null   object \n",
      " 29  current_sub_TF                   135050 non-null  object \n",
      " 30  app_opens                        135019 non-null  float64\n",
      " 31  cust_service_mssgs               135019 non-null  float64\n",
      " 32  num_videos_completed             135019 non-null  float64\n",
      " 33  num_videos_more_than_30_seconds  135018 non-null  float64\n",
      " 34  num_videos_rated                 135018 non-null  float64\n",
      " 35  num_series_started               135018 non-null  float64\n",
      "dtypes: bool(5), float64(15), int64(2), object(14)\n",
      "memory usage: 54.9+ MB\n"
     ]
    }
   ],
   "source": [
    "data.info()"
   ]
  },
  {
   "cell_type": "code",
   "execution_count": 55,
   "id": "fa801f61",
   "metadata": {},
   "outputs": [
    {
     "data": {
      "text/plain": [
       "4.5141    227096\n",
       "5.0279       325\n",
       "1.0276       167\n",
       "4.2205        18\n",
       "4.0737        12\n",
       "4.3673         4\n",
       "4.4407         2\n",
       "3.7801         2\n",
       "1.1744         1\n",
       "0.7707         1\n",
       "Name: discount_price, dtype: int64"
      ]
     },
     "execution_count": 55,
     "metadata": {},
     "output_type": "execute_result"
    }
   ],
   "source": [
    "data['discount_price'].value_counts()"
   ]
  },
  {
   "cell_type": "code",
   "execution_count": 66,
   "id": "721cd06a",
   "metadata": {},
   "outputs": [],
   "source": [
    "feature_churn = ['age','op_sys',\n",
    "                 'num_weekly_services_utilized',\n",
    "                 'weekly_consumption_hour',\n",
    "                 'num_ideal_streaming_services',\n",
    "                 'app_opens',\n",
    "                 'num_videos_completed',\n",
    "                 'cust_service_mssgs',\n",
    "                 'num_videos_more_than_30_seconds',\n",
    "                 'num_videos_rated',\n",
    "                 'num_series_started',\n",
    "                 'current_sub_TF']"
   ]
  },
  {
   "cell_type": "code",
   "execution_count": 67,
   "id": "68b3d265",
   "metadata": {},
   "outputs": [
    {
     "data": {
      "text/plain": [
       "['age',\n",
       " 'op_sys',\n",
       " 'num_weekly_services_utilized',\n",
       " 'weekly_consumption_hour',\n",
       " 'num_ideal_streaming_services',\n",
       " 'app_opens',\n",
       " 'num_videos_completed',\n",
       " 'cust_service_mssgs',\n",
       " 'num_videos_more_than_30_seconds',\n",
       " 'num_videos_rated',\n",
       " 'num_series_started',\n",
       " 'current_sub_TF']"
      ]
     },
     "execution_count": 67,
     "metadata": {},
     "output_type": "execute_result"
    }
   ],
   "source": [
    "feature_churn"
   ]
  },
  {
   "cell_type": "code",
   "execution_count": 68,
   "id": "d6c10698",
   "metadata": {},
   "outputs": [],
   "source": [
    "df_churn = data[feature_churn]\n",
    "df_churn = df_churn.dropna()\n",
    "df_churn = df_churn[-(df_churn.age > 70)]"
   ]
  },
  {
   "cell_type": "code",
   "execution_count": 69,
   "id": "a9f66106",
   "metadata": {},
   "outputs": [
    {
     "name": "stdout",
     "output_type": "stream",
     "text": [
      "<class 'pandas.core.frame.DataFrame'>\n",
      "Int64Index: 77040 entries, 2 to 227624\n",
      "Data columns (total 12 columns):\n",
      " #   Column                           Non-Null Count  Dtype  \n",
      "---  ------                           --------------  -----  \n",
      " 0   age                              77040 non-null  float64\n",
      " 1   op_sys                           77040 non-null  object \n",
      " 2   num_weekly_services_utilized     77040 non-null  float64\n",
      " 3   weekly_consumption_hour          77040 non-null  float64\n",
      " 4   num_ideal_streaming_services     77040 non-null  float64\n",
      " 5   app_opens                        77040 non-null  float64\n",
      " 6   num_videos_completed             77040 non-null  float64\n",
      " 7   cust_service_mssgs               77040 non-null  float64\n",
      " 8   num_videos_more_than_30_seconds  77040 non-null  float64\n",
      " 9   num_videos_rated                 77040 non-null  float64\n",
      " 10  num_series_started               77040 non-null  float64\n",
      " 11  current_sub_TF                   77040 non-null  object \n",
      "dtypes: float64(10), object(2)\n",
      "memory usage: 7.6+ MB\n"
     ]
    }
   ],
   "source": [
    "df_churn.info()"
   ]
  },
  {
   "cell_type": "code",
   "execution_count": 70,
   "id": "da66cdf9",
   "metadata": {},
   "outputs": [],
   "source": [
    "df_churn['current_sub_TF'] = df_churn['current_sub_TF'].astype('string')\n",
    "df_churn['current_sub_TF'] = df_churn['current_sub_TF'].map({\"True\":0 ,\"False\":1})\n",
    "df_churn = df_churn.rename(columns = {'current_sub_TF':'churn_TF'})"
   ]
  },
  {
   "cell_type": "code",
   "execution_count": 71,
   "id": "731d6fc5",
   "metadata": {},
   "outputs": [
    {
     "name": "stdout",
     "output_type": "stream",
     "text": [
      "<class 'pandas.core.frame.DataFrame'>\n",
      "Int64Index: 77040 entries, 2 to 227624\n",
      "Data columns (total 12 columns):\n",
      " #   Column                           Non-Null Count  Dtype  \n",
      "---  ------                           --------------  -----  \n",
      " 0   age                              77040 non-null  float64\n",
      " 1   op_sys                           77040 non-null  object \n",
      " 2   num_weekly_services_utilized     77040 non-null  float64\n",
      " 3   weekly_consumption_hour          77040 non-null  float64\n",
      " 4   num_ideal_streaming_services     77040 non-null  float64\n",
      " 5   app_opens                        77040 non-null  float64\n",
      " 6   num_videos_completed             77040 non-null  float64\n",
      " 7   cust_service_mssgs               77040 non-null  float64\n",
      " 8   num_videos_more_than_30_seconds  77040 non-null  float64\n",
      " 9   num_videos_rated                 77040 non-null  float64\n",
      " 10  num_series_started               77040 non-null  float64\n",
      " 11  churn_TF                         77040 non-null  int64  \n",
      "dtypes: float64(10), int64(1), object(1)\n",
      "memory usage: 7.6+ MB\n"
     ]
    }
   ],
   "source": [
    "df_churn.info()"
   ]
  },
  {
   "cell_type": "code",
   "execution_count": 82,
   "id": "f54b3fc9",
   "metadata": {},
   "outputs": [],
   "source": [
    "df_churn_dummy = pd.get_dummies(df_churn)"
   ]
  },
  {
   "cell_type": "code",
   "execution_count": 83,
   "id": "d8ecc22b",
   "metadata": {},
   "outputs": [
    {
     "name": "stdout",
     "output_type": "stream",
     "text": [
      "<class 'pandas.core.frame.DataFrame'>\n",
      "Int64Index: 77040 entries, 2 to 227624\n",
      "Data columns (total 13 columns):\n",
      " #   Column                           Non-Null Count  Dtype  \n",
      "---  ------                           --------------  -----  \n",
      " 0   age                              77040 non-null  float64\n",
      " 1   num_weekly_services_utilized     77040 non-null  float64\n",
      " 2   weekly_consumption_hour          77040 non-null  float64\n",
      " 3   num_ideal_streaming_services     77040 non-null  float64\n",
      " 4   app_opens                        77040 non-null  float64\n",
      " 5   num_videos_completed             77040 non-null  float64\n",
      " 6   cust_service_mssgs               77040 non-null  float64\n",
      " 7   num_videos_more_than_30_seconds  77040 non-null  float64\n",
      " 8   num_videos_rated                 77040 non-null  float64\n",
      " 9   num_series_started               77040 non-null  float64\n",
      " 10  churn_TF                         77040 non-null  int64  \n",
      " 11  op_sys_Android                   77040 non-null  uint8  \n",
      " 12  op_sys_iOS                       77040 non-null  uint8  \n",
      "dtypes: float64(10), int64(1), uint8(2)\n",
      "memory usage: 7.2 MB\n"
     ]
    }
   ],
   "source": [
    "df_churn_dummy.info()"
   ]
  },
  {
   "cell_type": "code",
   "execution_count": 84,
   "id": "a1121329",
   "metadata": {},
   "outputs": [
    {
     "data": {
      "text/html": [
       "<div>\n",
       "<style scoped>\n",
       "    .dataframe tbody tr th:only-of-type {\n",
       "        vertical-align: middle;\n",
       "    }\n",
       "\n",
       "    .dataframe tbody tr th {\n",
       "        vertical-align: top;\n",
       "    }\n",
       "\n",
       "    .dataframe thead th {\n",
       "        text-align: right;\n",
       "    }\n",
       "</style>\n",
       "<table border=\"1\" class=\"dataframe\">\n",
       "  <thead>\n",
       "    <tr style=\"text-align: right;\">\n",
       "      <th></th>\n",
       "      <th>age</th>\n",
       "      <th>num_weekly_services_utilized</th>\n",
       "      <th>weekly_consumption_hour</th>\n",
       "      <th>num_ideal_streaming_services</th>\n",
       "      <th>app_opens</th>\n",
       "      <th>num_videos_completed</th>\n",
       "      <th>cust_service_mssgs</th>\n",
       "      <th>num_videos_more_than_30_seconds</th>\n",
       "      <th>num_videos_rated</th>\n",
       "      <th>num_series_started</th>\n",
       "      <th>churn_TF</th>\n",
       "      <th>op_sys_Android</th>\n",
       "      <th>op_sys_iOS</th>\n",
       "    </tr>\n",
       "  </thead>\n",
       "  <tbody>\n",
       "    <tr>\n",
       "      <th>2</th>\n",
       "      <td>25.0</td>\n",
       "      <td>3.362885</td>\n",
       "      <td>36.001186</td>\n",
       "      <td>1.951776</td>\n",
       "      <td>2.0</td>\n",
       "      <td>13.0</td>\n",
       "      <td>2.0</td>\n",
       "      <td>13.0</td>\n",
       "      <td>0.0</td>\n",
       "      <td>1.0</td>\n",
       "      <td>1</td>\n",
       "      <td>0</td>\n",
       "      <td>1</td>\n",
       "    </tr>\n",
       "    <tr>\n",
       "      <th>6</th>\n",
       "      <td>61.0</td>\n",
       "      <td>2.049135</td>\n",
       "      <td>20.051667</td>\n",
       "      <td>1.860289</td>\n",
       "      <td>20.0</td>\n",
       "      <td>91.0</td>\n",
       "      <td>8.5</td>\n",
       "      <td>91.0</td>\n",
       "      <td>3.0</td>\n",
       "      <td>19.5</td>\n",
       "      <td>0</td>\n",
       "      <td>1</td>\n",
       "      <td>0</td>\n",
       "    </tr>\n",
       "    <tr>\n",
       "      <th>7</th>\n",
       "      <td>23.0</td>\n",
       "      <td>3.002048</td>\n",
       "      <td>34.551230</td>\n",
       "      <td>1.870503</td>\n",
       "      <td>52.0</td>\n",
       "      <td>42.0</td>\n",
       "      <td>5.0</td>\n",
       "      <td>103.0</td>\n",
       "      <td>0.0</td>\n",
       "      <td>14.5</td>\n",
       "      <td>0</td>\n",
       "      <td>0</td>\n",
       "      <td>1</td>\n",
       "    </tr>\n",
       "    <tr>\n",
       "      <th>12</th>\n",
       "      <td>57.0</td>\n",
       "      <td>2.452687</td>\n",
       "      <td>28.751405</td>\n",
       "      <td>1.842940</td>\n",
       "      <td>12.0</td>\n",
       "      <td>18.0</td>\n",
       "      <td>4.0</td>\n",
       "      <td>22.0</td>\n",
       "      <td>0.0</td>\n",
       "      <td>3.0</td>\n",
       "      <td>1</td>\n",
       "      <td>0</td>\n",
       "      <td>1</td>\n",
       "    </tr>\n",
       "    <tr>\n",
       "      <th>13</th>\n",
       "      <td>54.0</td>\n",
       "      <td>2.876856</td>\n",
       "      <td>33.101274</td>\n",
       "      <td>1.867353</td>\n",
       "      <td>71.0</td>\n",
       "      <td>52.0</td>\n",
       "      <td>6.0</td>\n",
       "      <td>68.0</td>\n",
       "      <td>0.0</td>\n",
       "      <td>12.0</td>\n",
       "      <td>1</td>\n",
       "      <td>0</td>\n",
       "      <td>1</td>\n",
       "    </tr>\n",
       "    <tr>\n",
       "      <th>...</th>\n",
       "      <td>...</td>\n",
       "      <td>...</td>\n",
       "      <td>...</td>\n",
       "      <td>...</td>\n",
       "      <td>...</td>\n",
       "      <td>...</td>\n",
       "      <td>...</td>\n",
       "      <td>...</td>\n",
       "      <td>...</td>\n",
       "      <td>...</td>\n",
       "      <td>...</td>\n",
       "      <td>...</td>\n",
       "      <td>...</td>\n",
       "    </tr>\n",
       "    <tr>\n",
       "      <th>227616</th>\n",
       "      <td>44.0</td>\n",
       "      <td>3.672180</td>\n",
       "      <td>27.301448</td>\n",
       "      <td>2.317104</td>\n",
       "      <td>2.0</td>\n",
       "      <td>3.0</td>\n",
       "      <td>1.0</td>\n",
       "      <td>11.0</td>\n",
       "      <td>0.0</td>\n",
       "      <td>1.0</td>\n",
       "      <td>0</td>\n",
       "      <td>0</td>\n",
       "      <td>1</td>\n",
       "    </tr>\n",
       "    <tr>\n",
       "      <th>227619</th>\n",
       "      <td>32.0</td>\n",
       "      <td>2.514545</td>\n",
       "      <td>30.201361</td>\n",
       "      <td>1.968236</td>\n",
       "      <td>3.0</td>\n",
       "      <td>12.0</td>\n",
       "      <td>4.0</td>\n",
       "      <td>13.0</td>\n",
       "      <td>0.0</td>\n",
       "      <td>1.0</td>\n",
       "      <td>1</td>\n",
       "      <td>1</td>\n",
       "      <td>0</td>\n",
       "    </tr>\n",
       "    <tr>\n",
       "      <th>227622</th>\n",
       "      <td>43.0</td>\n",
       "      <td>2.169904</td>\n",
       "      <td>24.401536</td>\n",
       "      <td>1.881068</td>\n",
       "      <td>31.0</td>\n",
       "      <td>47.0</td>\n",
       "      <td>5.0</td>\n",
       "      <td>59.0</td>\n",
       "      <td>0.0</td>\n",
       "      <td>8.0</td>\n",
       "      <td>1</td>\n",
       "      <td>0</td>\n",
       "      <td>1</td>\n",
       "    </tr>\n",
       "    <tr>\n",
       "      <th>227623</th>\n",
       "      <td>38.0</td>\n",
       "      <td>2.594078</td>\n",
       "      <td>28.751405</td>\n",
       "      <td>1.905485</td>\n",
       "      <td>16.0</td>\n",
       "      <td>20.0</td>\n",
       "      <td>3.0</td>\n",
       "      <td>36.0</td>\n",
       "      <td>0.0</td>\n",
       "      <td>2.0</td>\n",
       "      <td>1</td>\n",
       "      <td>0</td>\n",
       "      <td>1</td>\n",
       "    </tr>\n",
       "    <tr>\n",
       "      <th>227624</th>\n",
       "      <td>49.0</td>\n",
       "      <td>2.361370</td>\n",
       "      <td>27.301448</td>\n",
       "      <td>1.835189</td>\n",
       "      <td>36.0</td>\n",
       "      <td>19.5</td>\n",
       "      <td>7.5</td>\n",
       "      <td>61.0</td>\n",
       "      <td>0.0</td>\n",
       "      <td>7.5</td>\n",
       "      <td>1</td>\n",
       "      <td>0</td>\n",
       "      <td>1</td>\n",
       "    </tr>\n",
       "  </tbody>\n",
       "</table>\n",
       "<p>77040 rows × 13 columns</p>\n",
       "</div>"
      ],
      "text/plain": [
       "         age  num_weekly_services_utilized  weekly_consumption_hour  \\\n",
       "2       25.0                      3.362885                36.001186   \n",
       "6       61.0                      2.049135                20.051667   \n",
       "7       23.0                      3.002048                34.551230   \n",
       "12      57.0                      2.452687                28.751405   \n",
       "13      54.0                      2.876856                33.101274   \n",
       "...      ...                           ...                      ...   \n",
       "227616  44.0                      3.672180                27.301448   \n",
       "227619  32.0                      2.514545                30.201361   \n",
       "227622  43.0                      2.169904                24.401536   \n",
       "227623  38.0                      2.594078                28.751405   \n",
       "227624  49.0                      2.361370                27.301448   \n",
       "\n",
       "        num_ideal_streaming_services  app_opens  num_videos_completed  \\\n",
       "2                           1.951776        2.0                  13.0   \n",
       "6                           1.860289       20.0                  91.0   \n",
       "7                           1.870503       52.0                  42.0   \n",
       "12                          1.842940       12.0                  18.0   \n",
       "13                          1.867353       71.0                  52.0   \n",
       "...                              ...        ...                   ...   \n",
       "227616                      2.317104        2.0                   3.0   \n",
       "227619                      1.968236        3.0                  12.0   \n",
       "227622                      1.881068       31.0                  47.0   \n",
       "227623                      1.905485       16.0                  20.0   \n",
       "227624                      1.835189       36.0                  19.5   \n",
       "\n",
       "        cust_service_mssgs  num_videos_more_than_30_seconds  num_videos_rated  \\\n",
       "2                      2.0                             13.0               0.0   \n",
       "6                      8.5                             91.0               3.0   \n",
       "7                      5.0                            103.0               0.0   \n",
       "12                     4.0                             22.0               0.0   \n",
       "13                     6.0                             68.0               0.0   \n",
       "...                    ...                              ...               ...   \n",
       "227616                 1.0                             11.0               0.0   \n",
       "227619                 4.0                             13.0               0.0   \n",
       "227622                 5.0                             59.0               0.0   \n",
       "227623                 3.0                             36.0               0.0   \n",
       "227624                 7.5                             61.0               0.0   \n",
       "\n",
       "        num_series_started  churn_TF  op_sys_Android  op_sys_iOS  \n",
       "2                      1.0         1               0           1  \n",
       "6                     19.5         0               1           0  \n",
       "7                     14.5         0               0           1  \n",
       "12                     3.0         1               0           1  \n",
       "13                    12.0         1               0           1  \n",
       "...                    ...       ...             ...         ...  \n",
       "227616                 1.0         0               0           1  \n",
       "227619                 1.0         1               1           0  \n",
       "227622                 8.0         1               0           1  \n",
       "227623                 2.0         1               0           1  \n",
       "227624                 7.5         1               0           1  \n",
       "\n",
       "[77040 rows x 13 columns]"
      ]
     },
     "execution_count": 84,
     "metadata": {},
     "output_type": "execute_result"
    }
   ],
   "source": [
    "df_churn_dummy"
   ]
  },
  {
   "cell_type": "code",
   "execution_count": 78,
   "id": "b132e2e2",
   "metadata": {},
   "outputs": [],
   "source": [
    "# ------ DEFINE FUNCTIONS -----\n",
    "def apply_offers(df, threshold, base_price, discount_amount, cases, acceptance_rate_churn, acceptance_rate_nonchurn):\n",
    "    df_f = copy.deepcopy(df)\n",
    "\n",
    "    # set offer parameters for all observations\n",
    "    df_f['price_no_offer'] = base_price\n",
    "    df_f.loc[df_f['churn_TF'] == 1, 'price_no_offer'] = 0  # if the person churns they will pay 0\n",
    "\n",
    "    # determine whether indiviudals accept offer\n",
    "    df_f.loc[df_f['churn_TF'] == 1, 'accept_offer_prob'] = acceptance_rate_churn  # those who were going to churn are less likely to want the offer than those who were going to stay\n",
    "    df_f.loc[df_f['churn_TF'] == 0, 'accept_offer_prob'] = acceptance_rate_nonchurn\n",
    "    df_f['would_accept_offer_rand_draw'] = (df_f['random_draws'] < df_f['accept_offer_prob'])  # randomly select the individuals who would accept an offer based on their probability of acceptance\n",
    "\n",
    "    # make offer under lpm predictions for select threshold\n",
    "    df_f['make_offer_lpm'] = (df_f['prob_churn_lpm'] > threshold)     # predict whether individual will churn or not\n",
    "    df_f['accept_offer_lpm'] = (df_f['make_offer_lpm'] & df_f['would_accept_offer_rand_draw'])\n",
    "    df_f['price_lpm_offer'] = df_f['price_no_offer']  # initialize prices from \"do nothing case\"\n",
    "    df_f.loc[df_f['accept_offer_lpm'], 'price_lpm_offer'] = base_price * (1-discount_amount)    # for those who were both made an offer and would accept, set prices to discounted price\n",
    "\n",
    "    # make offer under logit predictions for select threshold\n",
    "    df_f['make_offer_logit'] = (df_f['prob_churn_logit'] > threshold)     # predict whether individual will churn or not\n",
    "    df_f['accept_offer_logit'] = (df_f['make_offer_logit'] & df_f['would_accept_offer_rand_draw'])\n",
    "    df_f['price_logit_offer'] = df_f['price_no_offer']  # initialize prices from \"do nothing case\"\n",
    "    df_f.loc[df_f['accept_offer_logit'], 'price_logit_offer'] = base_price * (1-discount_amount)    # for those who were both made an offer and would accept, set prices to discounted price\n",
    "\n",
    "    df_impact = pd.DataFrame(index=cases, columns=['subs', 'revenue', 'lift_from_no_offer'])\n",
    "    for c in cases:\n",
    "        df_impact.loc[c, 'subs'] = (df_f['price_' + c] > 0).sum()\n",
    "        df_impact.loc[c, 'revenue'] = df_f['price_' + c].sum()\n",
    "    for c in cases:\n",
    "        df_impact.loc[c, 'lift_from_no_offer'] = df_impact.loc[c, 'revenue'] / df_impact.loc['no_offer', 'revenue'] - 1\n",
    "\n",
    "    return df_f, df_impact\n",
    "\n",
    "def get_gini_info(actual, pred_prob):\n",
    "    # format[[obs0_pred0, obs0_pred1], [obs1_pred0, obs1_pred1]]; rows (i) are observed, columns (j) are predicted\n",
    "    confusion_matrix_list = list()\n",
    "    for t in [x / 100 for x in range(0, 100, 33)]:\n",
    "        pred = [1 if (x > t) else 0 for x in pred_prob]\n",
    "        confusion_matrix_list.append(confusion_matrix(actual, pred))\n",
    "        # confusion_matrix_list.append(model.pred_table(threshold=t))\n",
    "\n",
    "    # create Gini coefficient plots\n",
    "    false_positives = list()\n",
    "    true_positives = list()\n",
    "    for t in confusion_matrix_list:\n",
    "        true_positives.append(t[1, 1])\n",
    "        false_positives.append(t[0, 1])\n",
    "\n",
    "    return confusion_matrix_list, false_positives, true_positives"
   ]
  },
  {
   "cell_type": "code",
   "execution_count": 85,
   "id": "bea15f97",
   "metadata": {},
   "outputs": [],
   "source": [
    "from sklearn.model_selection import train_test_split\n",
    "from sklearn import model_selection\n",
    "df_train, df_test = model_selection.train_test_split(df_churn_dummy, test_size=0.3)"
   ]
  },
  {
   "cell_type": "code",
   "execution_count": 86,
   "id": "2252c05e",
   "metadata": {},
   "outputs": [
    {
     "data": {
      "text/html": [
       "<div>\n",
       "<style scoped>\n",
       "    .dataframe tbody tr th:only-of-type {\n",
       "        vertical-align: middle;\n",
       "    }\n",
       "\n",
       "    .dataframe tbody tr th {\n",
       "        vertical-align: top;\n",
       "    }\n",
       "\n",
       "    .dataframe thead th {\n",
       "        text-align: right;\n",
       "    }\n",
       "</style>\n",
       "<table border=\"1\" class=\"dataframe\">\n",
       "  <thead>\n",
       "    <tr style=\"text-align: right;\">\n",
       "      <th></th>\n",
       "      <th>age</th>\n",
       "      <th>num_weekly_services_utilized</th>\n",
       "      <th>weekly_consumption_hour</th>\n",
       "      <th>num_ideal_streaming_services</th>\n",
       "      <th>app_opens</th>\n",
       "      <th>num_videos_completed</th>\n",
       "      <th>cust_service_mssgs</th>\n",
       "      <th>num_videos_more_than_30_seconds</th>\n",
       "      <th>num_videos_rated</th>\n",
       "      <th>num_series_started</th>\n",
       "      <th>churn_TF</th>\n",
       "      <th>op_sys_Android</th>\n",
       "      <th>op_sys_iOS</th>\n",
       "    </tr>\n",
       "  </thead>\n",
       "  <tbody>\n",
       "    <tr>\n",
       "      <th>139581</th>\n",
       "      <td>31.0</td>\n",
       "      <td>3.141965</td>\n",
       "      <td>34.551230</td>\n",
       "      <td>1.919339</td>\n",
       "      <td>8.0</td>\n",
       "      <td>32.0</td>\n",
       "      <td>3.0</td>\n",
       "      <td>42.0</td>\n",
       "      <td>0.0</td>\n",
       "      <td>5.0</td>\n",
       "      <td>1</td>\n",
       "      <td>0</td>\n",
       "      <td>1</td>\n",
       "    </tr>\n",
       "    <tr>\n",
       "      <th>47990</th>\n",
       "      <td>41.0</td>\n",
       "      <td>2.258275</td>\n",
       "      <td>22.951579</td>\n",
       "      <td>1.920160</td>\n",
       "      <td>9.0</td>\n",
       "      <td>32.0</td>\n",
       "      <td>2.0</td>\n",
       "      <td>47.0</td>\n",
       "      <td>0.0</td>\n",
       "      <td>6.0</td>\n",
       "      <td>1</td>\n",
       "      <td>1</td>\n",
       "      <td>0</td>\n",
       "    </tr>\n",
       "    <tr>\n",
       "      <th>81920</th>\n",
       "      <td>42.0</td>\n",
       "      <td>2.184634</td>\n",
       "      <td>22.951579</td>\n",
       "      <td>1.854940</td>\n",
       "      <td>2.0</td>\n",
       "      <td>8.0</td>\n",
       "      <td>2.0</td>\n",
       "      <td>13.0</td>\n",
       "      <td>0.0</td>\n",
       "      <td>1.0</td>\n",
       "      <td>1</td>\n",
       "      <td>1</td>\n",
       "      <td>0</td>\n",
       "    </tr>\n",
       "    <tr>\n",
       "      <th>182553</th>\n",
       "      <td>58.0</td>\n",
       "      <td>2.442377</td>\n",
       "      <td>27.301448</td>\n",
       "      <td>1.871023</td>\n",
       "      <td>7.0</td>\n",
       "      <td>9.0</td>\n",
       "      <td>1.0</td>\n",
       "      <td>22.0</td>\n",
       "      <td>0.0</td>\n",
       "      <td>1.0</td>\n",
       "      <td>1</td>\n",
       "      <td>0</td>\n",
       "      <td>1</td>\n",
       "    </tr>\n",
       "    <tr>\n",
       "      <th>34895</th>\n",
       "      <td>38.0</td>\n",
       "      <td>2.022624</td>\n",
       "      <td>21.501623</td>\n",
       "      <td>1.848561</td>\n",
       "      <td>10.0</td>\n",
       "      <td>14.0</td>\n",
       "      <td>16.0</td>\n",
       "      <td>18.0</td>\n",
       "      <td>0.0</td>\n",
       "      <td>2.0</td>\n",
       "      <td>1</td>\n",
       "      <td>0</td>\n",
       "      <td>1</td>\n",
       "    </tr>\n",
       "  </tbody>\n",
       "</table>\n",
       "</div>"
      ],
      "text/plain": [
       "         age  num_weekly_services_utilized  weekly_consumption_hour  \\\n",
       "139581  31.0                      3.141965                34.551230   \n",
       "47990   41.0                      2.258275                22.951579   \n",
       "81920   42.0                      2.184634                22.951579   \n",
       "182553  58.0                      2.442377                27.301448   \n",
       "34895   38.0                      2.022624                21.501623   \n",
       "\n",
       "        num_ideal_streaming_services  app_opens  num_videos_completed  \\\n",
       "139581                      1.919339        8.0                  32.0   \n",
       "47990                       1.920160        9.0                  32.0   \n",
       "81920                       1.854940        2.0                   8.0   \n",
       "182553                      1.871023        7.0                   9.0   \n",
       "34895                       1.848561       10.0                  14.0   \n",
       "\n",
       "        cust_service_mssgs  num_videos_more_than_30_seconds  num_videos_rated  \\\n",
       "139581                 3.0                             42.0               0.0   \n",
       "47990                  2.0                             47.0               0.0   \n",
       "81920                  2.0                             13.0               0.0   \n",
       "182553                 1.0                             22.0               0.0   \n",
       "34895                 16.0                             18.0               0.0   \n",
       "\n",
       "        num_series_started  churn_TF  op_sys_Android  op_sys_iOS  \n",
       "139581                 5.0         1               0           1  \n",
       "47990                  6.0         1               1           0  \n",
       "81920                  1.0         1               1           0  \n",
       "182553                 1.0         1               0           1  \n",
       "34895                  2.0         1               0           1  "
      ]
     },
     "execution_count": 86,
     "metadata": {},
     "output_type": "execute_result"
    }
   ],
   "source": [
    "df_train.head()"
   ]
  },
  {
   "cell_type": "code",
   "execution_count": 91,
   "id": "68a33334",
   "metadata": {},
   "outputs": [],
   "source": [
    "y_col_name = 'churn_TF'\n",
    "#x_col_name = ['age','male_TF','num_weekly_services_utilized','weekly_consumption_hour','num_ideal_streaming_services','app_opens','num_videos_completed','cust_service_mssgs','num_videos_more_than_30_seconds','num_videos_rated','num_series_started']\n",
    "x_col_name = ['age',\n",
    "                 'num_weekly_services_utilized',\n",
    "                 'weekly_consumption_hour',\n",
    "                 'num_ideal_streaming_services',\n",
    "                 'app_opens',\n",
    "                 'num_videos_completed',\n",
    "                 'cust_service_mssgs',\n",
    "                 'num_videos_more_than_30_seconds',\n",
    "                 'num_videos_rated',\n",
    "                 'num_series_started','op_sys_Android','op_sys_iOS']\n",
    "add_constant_TF = True"
   ]
  },
  {
   "cell_type": "code",
   "execution_count": 92,
   "id": "574eccd5",
   "metadata": {},
   "outputs": [],
   "source": [
    "import statsmodels.api as sm\n",
    "if add_constant_TF:\n",
    "    x_col_name.append('const')\n",
    "    df_train = sm.add_constant(df_train)\n",
    "    df_test = sm.add_constant(df_test)"
   ]
  },
  {
   "cell_type": "code",
   "execution_count": 93,
   "id": "1ee4a17c",
   "metadata": {},
   "outputs": [
    {
     "name": "stdout",
     "output_type": "stream",
     "text": [
      "\n",
      "RESULTS OF LOGIT MODEL FITTING\n",
      "\n",
      "                            OLS Regression Results                            \n",
      "==============================================================================\n",
      "Dep. Variable:               churn_TF   R-squared:                       0.224\n",
      "Model:                            OLS   Adj. R-squared:                  0.224\n",
      "Method:                 Least Squares   F-statistic:                     1418.\n",
      "Date:                Mon, 13 Dec 2021   Prob (F-statistic):               0.00\n",
      "Time:                        16:37:04   Log-Likelihood:                -19558.\n",
      "No. Observations:               53928   AIC:                         3.914e+04\n",
      "Df Residuals:                   53916   BIC:                         3.925e+04\n",
      "Df Model:                          11                                         \n",
      "Covariance Type:            nonrobust                                         \n",
      "===================================================================================================\n",
      "                                      coef    std err          t      P>|t|      [0.025      0.975]\n",
      "---------------------------------------------------------------------------------------------------\n",
      "age                                -0.0014      0.000    -11.779      0.000      -0.002      -0.001\n",
      "num_weekly_services_utilized       -0.0184      0.005     -3.895      0.000      -0.028      -0.009\n",
      "weekly_consumption_hour            -0.0046      0.000    -11.723      0.000      -0.005      -0.004\n",
      "num_ideal_streaming_services        0.0137      0.013      1.046      0.295      -0.012       0.039\n",
      "app_opens                          -0.0012   7.03e-05    -17.318      0.000      -0.001      -0.001\n",
      "num_videos_completed                0.0032      0.000     26.030      0.000       0.003       0.003\n",
      "cust_service_mssgs                  0.0175      0.000     37.105      0.000       0.017       0.018\n",
      "num_videos_more_than_30_seconds    -0.0041      0.000    -34.049      0.000      -0.004      -0.004\n",
      "num_videos_rated                   -0.0251      0.001    -26.675      0.000      -0.027      -0.023\n",
      "num_series_started                 -0.0163      0.001    -26.310      0.000      -0.018      -0.015\n",
      "op_sys_Android                      0.3991      0.008     51.295      0.000       0.384       0.414\n",
      "op_sys_iOS                          0.4088      0.008     53.618      0.000       0.394       0.424\n",
      "const                               0.8079      0.015     53.875      0.000       0.779       0.837\n",
      "==============================================================================\n",
      "Omnibus:                     8066.711   Durbin-Watson:                   2.009\n",
      "Prob(Omnibus):                  0.000   Jarque-Bera (JB):            12272.417\n",
      "Skew:                          -1.091   Prob(JB):                         0.00\n",
      "Kurtosis:                       3.837   Cond. No.                     5.59e+17\n",
      "==============================================================================\n",
      "\n",
      "Notes:\n",
      "[1] Standard Errors assume that the covariance matrix of the errors is correctly specified.\n",
      "[2] The smallest eigenvalue is 1.5e-27. This might indicate that there are\n",
      "strong multicollinearity problems or that the design matrix is singular.\n"
     ]
    }
   ],
   "source": [
    "# --- fit linear probability model\n",
    "lpm_model = sm.OLS(endog=df_train[y_col_name], exog=df_train[x_col_name])\n",
    "lpm_results = lpm_model.fit()\n",
    "print(\"\\nRESULTS OF LOGIT MODEL FITTING\\n\")\n",
    "print(lpm_results.summary())"
   ]
  },
  {
   "cell_type": "code",
   "execution_count": 95,
   "id": "605709dd",
   "metadata": {},
   "outputs": [
    {
     "name": "stdout",
     "output_type": "stream",
     "text": [
      "Optimization terminated successfully.\n",
      "         Current function value: 0.385686\n",
      "         Iterations 8\n",
      "\n",
      "RESULTS OF LOGIT MODEL FITTING\n",
      "\n",
      "                           Logit Regression Results                           \n",
      "==============================================================================\n",
      "Dep. Variable:               churn_TF   No. Observations:                53928\n",
      "Model:                          Logit   Df Residuals:                    53916\n",
      "Method:                           MLE   Df Model:                           11\n",
      "Date:                Mon, 13 Dec 2021   Pseudo R-squ.:                  0.2144\n",
      "Time:                        16:38:36   Log-Likelihood:                -20799.\n",
      "converged:                       True   LL-Null:                       -26475.\n",
      "Covariance Type:            nonrobust   LLR p-value:                     0.000\n",
      "===================================================================================================\n",
      "                                      coef    std err          z      P>|z|      [0.025      0.975]\n",
      "---------------------------------------------------------------------------------------------------\n",
      "age                                -0.0112      0.001    -10.900      0.000      -0.013      -0.009\n",
      "num_weekly_services_utilized       -0.1199      0.039     -3.042      0.002      -0.197      -0.043\n",
      "weekly_consumption_hour            -0.0376      0.003    -11.433      0.000      -0.044      -0.031\n",
      "num_ideal_streaming_services        0.0359      0.109      0.328      0.743      -0.178       0.250\n",
      "app_opens                          -0.0063      0.000    -12.755      0.000      -0.007      -0.005\n",
      "num_videos_completed                0.0166      0.001     19.343      0.000       0.015       0.018\n",
      "cust_service_mssgs                  0.1186      0.004     28.809      0.000       0.110       0.127\n",
      "num_videos_more_than_30_seconds    -0.0326      0.001    -34.804      0.000      -0.034      -0.031\n",
      "num_videos_rated                   -0.1209      0.007    -17.542      0.000      -0.134      -0.107\n",
      "num_series_started                 -0.0721      0.004    -16.279      0.000      -0.081      -0.063\n",
      "op_sys_Android                      1.5950        nan        nan        nan         nan         nan\n",
      "op_sys_iOS                          1.6842        nan        nan        nan         nan         nan\n",
      "const                               3.2792        nan        nan        nan         nan         nan\n",
      "===================================================================================================\n"
     ]
    }
   ],
   "source": [
    "# --- fit logistic regression\n",
    "logit_model = sm.Logit(endog=df_train[y_col_name], exog=df_train[x_col_name])\n",
    "logit_results = logit_model.fit()\n",
    "print(\"\\nRESULTS OF LOGIT MODEL FITTING\\n\")\n",
    "print(logit_results.summary())"
   ]
  },
  {
   "cell_type": "code",
   "execution_count": 96,
   "id": "3cef39f4",
   "metadata": {},
   "outputs": [],
   "source": [
    "# ----- EVALUATE MODEL PERFORMANCE -----\n",
    "# --- evaluate model predictions on test set graphically\n",
    "df_test['prob_churn_lpm'] = lpm_results.predict(df_test[x_col_name])\n",
    "df_test['prob_churn_logit'] = logit_results.predict(df_test[x_col_name])"
   ]
  },
  {
   "cell_type": "code",
   "execution_count": 101,
   "id": "a6dd53a3",
   "metadata": {},
   "outputs": [
    {
     "data": {
      "text/plain": [
       "<matplotlib.legend.Legend at 0x7fd382e12b20>"
      ]
     },
     "execution_count": 101,
     "metadata": {},
     "output_type": "execute_result"
    },
    {
     "data": {
      "image/png": "[encoded data removed]",
      "text/plain": [
       "<Figure size 432x288 with 1 Axes>"
      ]
     },
     "metadata": {
      "needs_background": "light"
     },
     "output_type": "display_data"
    }
   ],
   "source": [
    "\n",
    "# compare lpm and logit predictions\n",
    "fig = plt.figure()\n",
    "ax = plt.gca()\n",
    "ax.plot(df_test[['prob_churn_lpm']], df_test[['churn_TF']], 'k.')\n",
    "ax.plot(df_test[['prob_churn_lpm']], df_test[['prob_churn_logit']], 'r.')\n",
    "plt.ylim(df_test[['prob_churn_lpm', 'prob_churn_logit']].min().min()-.05, df_test[['prob_churn_lpm', 'prob_churn_logit']].max().max()+.05)\n",
    "plt.xlim(ax.get_ylim())\n",
    "plt.title('LPM vs logit predictions')\n",
    "plt.xlabel('Linear Probability Model Prediction')\n",
    "plt.ylabel('Logit Model Prediction')\n",
    "fig.legend(labels=['Churn T/F (actual)', 'Linear probability model', 'Logit probability'])"
   ]
  },
  {
   "cell_type": "code",
   "execution_count": 103,
   "id": "765192f1",
   "metadata": {},
   "outputs": [],
   "source": [
    "# --- evaluate model predictions using numerical quantification (ROC curves)\n",
    "from sklearn.metrics import confusion_matrix\n",
    "# make confusion matrices\n",
    "logit_conf_mat, logit_false_positives, logit_true_positives = get_gini_info(df_test['churn_TF'], df_test['prob_churn_logit'])\n",
    "lpm_conf_mat, lpm_false_positives, lpm_true_positives = get_gini_info(df_test['churn_TF'], df_test['prob_churn_lpm'])"
   ]
  },
  {
   "cell_type": "code",
   "execution_count": 104,
   "id": "14537ed3",
   "metadata": {},
   "outputs": [
    {
     "data": {
      "text/plain": [
       "<matplotlib.legend.Legend at 0x7fd383c8cd90>"
      ]
     },
     "execution_count": 104,
     "metadata": {},
     "output_type": "execute_result"
    },
    {
     "data": {
      "image/png": "[encoded data removed]",
      "text/plain": [
       "<Figure size 432x288 with 1 Axes>"
      ]
     },
     "metadata": {
      "needs_background": "light"
     },
     "output_type": "display_data"
    }
   ],
   "source": [
    "# plot ROC curves\n",
    "fig = plt.figure()\n",
    "ax1 = plt.gca()\n",
    "ax1.plot(lpm_false_positives, lpm_true_positives, 'b-')\n",
    "ax1.plot(logit_false_positives, logit_true_positives, 'r-')\n",
    "plt.title('ROC curves')\n",
    "plt.xlabel('False positives (positive=churn)')\n",
    "plt.ylabel('True positives (positive=churn)')\n",
    "plt.legend(labels=['Linear probability model', 'Logit probability'])"
   ]
  },
  {
   "cell_type": "code",
   "execution_count": 105,
   "id": "81b18ad3",
   "metadata": {},
   "outputs": [],
   "source": [
    "# ----- TEST RETENTION OFFER SCENARIOS -----\n",
    "# evaluate the impact of an offer\n",
    "acceptance_rate_nonchurn = 1\n",
    "acceptance_rate_churn = 0.3\n",
    "threshold = 0.5\n",
    "base_price = 4.5141\n",
    "discount_amount = 0.3\n",
    "cases = ['no_offer', 'lpm_offer', 'logit_offer']"
   ]
  },
  {
   "cell_type": "code",
   "execution_count": 106,
   "id": "1083ba93",
   "metadata": {},
   "outputs": [],
   "source": [
    "# draw whether individual would accept an offer or not - assume probability of acceptance is independent of offer attractiveness\n",
    "df_test['random_draws'] = np.random.random(df_test.shape[0])"
   ]
  },
  {
   "cell_type": "code",
   "execution_count": 108,
   "id": "2fabe950",
   "metadata": {},
   "outputs": [],
   "source": [
    "import copy\n",
    "# base assessment\n",
    "df_test, df_impact = apply_offers(df_test, threshold, base_price, discount_amount, cases, acceptance_rate_churn, acceptance_rate_nonchurn)"
   ]
  },
  {
   "cell_type": "code",
   "execution_count": 109,
   "id": "b3076420",
   "metadata": {},
   "outputs": [],
   "source": [
    "# test sensitivity to thresholds\n",
    "df_lift_threshold = pd.DataFrame(index=range(0, 100, 1), columns=['threshold'] + cases)\n",
    "for t_ind in df_lift_threshold.index:\n",
    "    t_threshold = t_ind / 100\n",
    "    _, t_df_impact = apply_offers(df_test, t_threshold, base_price, discount_amount, cases, acceptance_rate_churn, acceptance_rate_nonchurn)\n",
    "\n",
    "    df_lift_threshold.loc[t_ind, 'threshold'] = t_threshold\n",
    "    df_lift_threshold.loc[t_ind, cases] = t_df_impact.loc[cases, 'lift_from_no_offer']\n",
    "del t_df_impact, t_threshold, t_ind"
   ]
  },
  {
   "cell_type": "code",
   "execution_count": 110,
   "id": "0df0a253",
   "metadata": {},
   "outputs": [
    {
     "data": {
      "text/plain": [
       "<matplotlib.legend.Legend at 0x7fd384d68940>"
      ]
     },
     "execution_count": 110,
     "metadata": {},
     "output_type": "execute_result"
    },
    {
     "data": {
      "image/png": "[encoded data removed]",
      "text/plain": [
       "<Figure size 432x288 with 1 Axes>"
      ]
     },
     "metadata": {
      "needs_background": "light"
     },
     "output_type": "display_data"
    }
   ],
   "source": [
    "# --- plot lift curves\n",
    "# Threshold sensitivity\n",
    "fig = plt.figure()\n",
    "ax1 = plt.gca()\n",
    "ax1.plot(df_lift_threshold['threshold'], df_lift_threshold['lpm_offer'], 'b-')\n",
    "ax1.plot(df_lift_threshold['threshold'], df_lift_threshold['logit_offer'], 'r-')\n",
    "plt.title('Lift curves')\n",
    "plt.xlabel('Threshold probability for predicting customer churns')\n",
    "plt.ylabel('Revenue lift from base scenario of making no retention offer')\n",
    "plt.legend(labels=['Linear probability model', 'Logit probability'])"
   ]
  },
  {
   "cell_type": "code",
   "execution_count": 111,
   "id": "66a40bbd",
   "metadata": {},
   "outputs": [
    {
     "data": {
      "text/plain": [
       "0.6759484939066449"
      ]
     },
     "execution_count": 111,
     "metadata": {},
     "output_type": "execute_result"
    }
   ],
   "source": [
    "lmp_offer_max = df_lift_threshold['lpm_offer'].max()\n",
    "lmp_offer_max"
   ]
  },
  {
   "cell_type": "code",
   "execution_count": 112,
   "id": "b8a1172b",
   "metadata": {},
   "outputs": [
    {
     "data": {
      "text/plain": [
       "0.6749367670728903"
      ]
     },
     "execution_count": 112,
     "metadata": {},
     "output_type": "execute_result"
    }
   ],
   "source": [
    "logit_offer_max = df_lift_threshold['logit_offer'].max()\n",
    "logit_offer_max"
   ]
  },
  {
   "cell_type": "code",
   "execution_count": 113,
   "id": "80564e07",
   "metadata": {},
   "outputs": [
    {
     "name": "stdout",
     "output_type": "stream",
     "text": [
      "0.64\n"
     ]
    }
   ],
   "source": [
    "for i in range(df_lift_threshold.shape[0]):\n",
    "    if df_lift_threshold['lpm_offer'][i] == lmp_offer_max:\n",
    "        print(df_lift_threshold['threshold'][i])"
   ]
  },
  {
   "cell_type": "code",
   "execution_count": 114,
   "id": "8b5e616b",
   "metadata": {},
   "outputs": [
    {
     "name": "stdout",
     "output_type": "stream",
     "text": [
      "0.67\n"
     ]
    }
   ],
   "source": [
    "for i in range(df_lift_threshold.shape[0]):\n",
    "    if df_lift_threshold['logit_offer'][i] == logit_offer_max:\n",
    "        print(df_lift_threshold['threshold'][i])"
   ]
  },
  {
   "cell_type": "code",
   "execution_count": 115,
   "id": "12592a2f",
   "metadata": {},
   "outputs": [],
   "source": [
    "threshold = 0.655"
   ]
  },
  {
   "cell_type": "code",
   "execution_count": 116,
   "id": "fead5708",
   "metadata": {},
   "outputs": [],
   "source": [
    "# test sensitivity to acceptance rate for churners\n",
    "df_lift_acceptance_rate_churn = pd.DataFrame(index=range(0, 100, 1), columns=['acceptance_rate_churn'] + cases)\n",
    "for t_ind in df_lift_acceptance_rate_churn.index:\n",
    "    t_acceptance_rate_churn = t_ind / 100\n",
    "    _, t_df_impact = apply_offers(df_test, threshold, base_price, discount_amount, cases, t_acceptance_rate_churn, acceptance_rate_nonchurn)\n",
    "\n",
    "    df_lift_acceptance_rate_churn.loc[t_ind, 'acceptance_rate_churn'] = t_acceptance_rate_churn\n",
    "    df_lift_acceptance_rate_churn.loc[t_ind, cases] = t_df_impact.loc[cases, 'lift_from_no_offer']\n",
    "del t_df_impact, t_acceptance_rate_churn, t_ind"
   ]
  },
  {
   "cell_type": "code",
   "execution_count": 117,
   "id": "08f5139f",
   "metadata": {},
   "outputs": [
    {
     "data": {
      "text/plain": [
       "<matplotlib.legend.Legend at 0x7fd383c53a60>"
      ]
     },
     "execution_count": 117,
     "metadata": {},
     "output_type": "execute_result"
    },
    {
     "data": {
      "image/png": "[encoded data removed]",
      "text/plain": [
       "<Figure size 432x288 with 1 Axes>"
      ]
     },
     "metadata": {
      "needs_background": "light"
     },
     "output_type": "display_data"
    }
   ],
   "source": [
    "# Acceptance rate sensitivity\n",
    "fig = plt.figure()\n",
    "ax1 = plt.gca()\n",
    "ax1.plot(df_lift_acceptance_rate_churn['acceptance_rate_churn'], df_lift_acceptance_rate_churn['lpm_offer'], 'b-')\n",
    "ax1.plot(df_lift_acceptance_rate_churn['acceptance_rate_churn'], df_lift_acceptance_rate_churn['logit_offer'], 'r-')\n",
    "plt.title('Lift curves')\n",
    "plt.xlabel('Offer acceptance rate for those who would churn')\n",
    "plt.ylabel('Revenue lift from base scenario of making no retention offer')\n",
    "plt.legend(labels=['Linear probability model', 'Logit probability'])"
   ]
  },
  {
   "cell_type": "code",
   "execution_count": 118,
   "id": "d03bfc63",
   "metadata": {},
   "outputs": [],
   "source": [
    "# test sensitivity to offer discount amount\n",
    "df_lift_discount_amount = pd.DataFrame(index=range(0, 100, 1), columns=['discount_amount'] + cases)\n",
    "for t_ind in df_lift_discount_amount.index:\n",
    "    t_discount_amount = t_ind / 100\n",
    "    acceptance_rate_churn = t_discount_amount\n",
    "    _, t_df_impact = apply_offers(df_test, threshold, base_price, t_discount_amount, cases, acceptance_rate_churn, acceptance_rate_nonchurn)\n",
    "    \n",
    "    df_lift_discount_amount.loc[t_ind, 'discount_amount'] = t_discount_amount\n",
    "    df_lift_discount_amount.loc[t_ind, cases] = t_df_impact.loc[cases, 'lift_from_no_offer']\n",
    "del t_df_impact, t_discount_amount, t_ind"
   ]
  },
  {
   "cell_type": "code",
   "execution_count": 119,
   "id": "78422163",
   "metadata": {},
   "outputs": [
    {
     "data": {
      "text/plain": [
       "<matplotlib.legend.Legend at 0x7fd38578e670>"
      ]
     },
     "execution_count": 119,
     "metadata": {},
     "output_type": "execute_result"
    },
    {
     "data": {
      "image/png": "[encoded data removed]",
      "text/plain": [
       "<Figure size 432x288 with 1 Axes>"
      ]
     },
     "metadata": {
      "needs_background": "light"
     },
     "output_type": "display_data"
    }
   ],
   "source": [
    "# Discount amount sensitivity\n",
    "fig = plt.figure()\n",
    "ax1 = plt.gca()\n",
    "ax1.plot(df_lift_discount_amount['discount_amount'], df_lift_discount_amount['lpm_offer'], 'b-')\n",
    "ax1.plot(df_lift_discount_amount['discount_amount'], df_lift_discount_amount['logit_offer'], 'r-')\n",
    "plt.title('Lift curves')\n",
    "plt.xlabel('Offer discount amount')\n",
    "plt.ylabel('Revenue lift from base scenario of making no retention offer')\n",
    "plt.legend(labels=['Linear probability model', 'Logit probability'])"
   ]
  },
  {
   "cell_type": "code",
   "execution_count": 120,
   "id": "3618fd50",
   "metadata": {},
   "outputs": [
    {
     "data": {
      "text/plain": [
       "0.7535065532306278"
      ]
     },
     "execution_count": 120,
     "metadata": {},
     "output_type": "execute_result"
    }
   ],
   "source": [
    "lmp_offer_max = df_lift_discount_amount['lpm_offer'].max()\n",
    "lmp_offer_max"
   ]
  },
  {
   "cell_type": "code",
   "execution_count": 121,
   "id": "b21b5354",
   "metadata": {},
   "outputs": [
    {
     "data": {
      "text/plain": [
       "0.7489445849620604"
      ]
     },
     "execution_count": 121,
     "metadata": {},
     "output_type": "execute_result"
    }
   ],
   "source": [
    "logit_offer_max = df_lift_discount_amount['logit_offer'].max()\n",
    "logit_offer_max"
   ]
  },
  {
   "cell_type": "code",
   "execution_count": 122,
   "id": "e48c30fb",
   "metadata": {},
   "outputs": [
    {
     "name": "stdout",
     "output_type": "stream",
     "text": [
      "0.44\n"
     ]
    }
   ],
   "source": [
    "for i in range(df_lift_discount_amount.shape[0]):\n",
    "    if df_lift_discount_amount['lpm_offer'][i] == lmp_offer_max:\n",
    "        print(df_lift_discount_amount['discount_amount'][i])"
   ]
  },
  {
   "cell_type": "code",
   "execution_count": 123,
   "id": "91564b49",
   "metadata": {},
   "outputs": [
    {
     "name": "stdout",
     "output_type": "stream",
     "text": [
      "0.44\n"
     ]
    }
   ],
   "source": [
    "for i in range(df_lift_discount_amount.shape[0]):\n",
    "    if df_lift_discount_amount['logit_offer'][i] == logit_offer_max:\n",
    "        print(df_lift_discount_amount['discount_amount'][i])"
   ]
  },
  {
   "cell_type": "code",
   "execution_count": null,
   "id": "d2fd9035",
   "metadata": {},
   "outputs": [],
   "source": []
  }
 ],
 "metadata": {
  "kernelspec": {
   "display_name": "Python 3",
   "language": "python",
   "name": "python3"
  },
  "language_info": {
   "codemirror_mode": {
    "name": "ipython",
    "version": 3
   },
   "file_extension": ".py",
   "mimetype": "text/x-python",
   "name": "python",
   "nbconvert_exporter": "python",
   "pygments_lexer": "ipython3",
   "version": "3.8.8"
  }
 },
 "nbformat": 4,
 "nbformat_minor": 5
}
